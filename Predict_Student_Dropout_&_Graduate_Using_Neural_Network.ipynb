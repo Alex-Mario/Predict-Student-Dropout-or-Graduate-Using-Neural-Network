{
  "cells": [
    {
      "cell_type": "markdown",
      "id": "a4826bf2-7c64-4a31-8872-1635056076b0",
      "metadata": {
        "id": "a4826bf2-7c64-4a31-8872-1635056076b0"
      },
      "source": [
        "# PROJECT KCB AI"
      ]
    },
    {
      "cell_type": "markdown",
      "source": [
        "> Anggota Kelompok :\n",
        "> - 201401032 - Al Imamul Luthfi\n",
        "> - 201401033 - Albertman Putra Barasa\n",
        "> - 201401034 - Alex Mario Simanjuntak\n",
        "> - 201401040 - Avin Chaili Salim\n",
        "> - 201401042 - Brian Wijaya\n",
        "> - 201401022 - Farhan Doli Fadhiil Siagian\n"
      ],
      "metadata": {
        "id": "4YVXwenboMRs"
      },
      "id": "4YVXwenboMRs"
    },
    {
      "cell_type": "markdown",
      "id": "30352840-920b-4ab2-a8f3-eebe8c1ccad6",
      "metadata": {
        "id": "30352840-920b-4ab2-a8f3-eebe8c1ccad6"
      },
      "source": [
        "## STUDENT DROPOUT & GRADUATED PREDICTION"
      ]
    },
    {
      "cell_type": "code",
      "execution_count": null,
      "id": "ab854253-c7b5-439f-9296-c0838d514694",
      "metadata": {
        "id": "ab854253-c7b5-439f-9296-c0838d514694"
      },
      "outputs": [],
      "source": [
        "# import all necessary library\n",
        "import pandas as pd\n",
        "import matplotlib.pyplot as plt\n",
        "import seaborn as sns\n",
        "\n",
        "#library untuk split\n",
        "from sklearn.model_selection import train_test_split\n",
        "\n",
        "#library untuk feature selection\n",
        "from sklearn.ensemble import ExtraTreesClassifier\n",
        "\n",
        "# import library untuk encoder\n",
        "from sklearn.preprocessing import LabelEncoder\n",
        "\n",
        "# import library untuk scaling\n",
        "from sklearn.preprocessing import MinMaxScaler\n",
        "\n",
        "import warnings\n",
        "warnings.filterwarnings('ignore')"
      ]
    },
    {
      "cell_type": "markdown",
      "id": "fd71f294-6416-4255-abf4-d241d159573b",
      "metadata": {
        "id": "fd71f294-6416-4255-abf4-d241d159573b"
      },
      "source": [
        "## OVERVIEW"
      ]
    },
    {
      "cell_type": "markdown",
      "id": "353c8c08-31a3-47e4-8870-febda37d1be3",
      "metadata": {
        "id": "353c8c08-31a3-47e4-8870-febda37d1be3"
      },
      "source": [
        "dataset : https://archive-beta.ics.uci.edu/dataset/697/predict+students+dropout+and+academic+success"
      ]
    },
    {
      "cell_type": "markdown",
      "source": [
        "Pertama tama kita load datasetnya"
      ],
      "metadata": {
        "id": "7BOnHpOdgyLd"
      },
      "id": "7BOnHpOdgyLd"
    },
    {
      "cell_type": "code",
      "execution_count": null,
      "id": "ff506e32-4d9f-4505-b8bf-debb4c115455",
      "metadata": {
        "id": "ff506e32-4d9f-4505-b8bf-debb4c115455"
      },
      "outputs": [],
      "source": [
        "df = pd.read_csv(\"https://drive.google.com/uc?export=download&id=1azPPugLv7xt4IpQTOwCFztSKVpbkfD_g\", delimiter = \";\")"
      ]
    },
    {
      "cell_type": "markdown",
      "source": [
        "Cek info dari df"
      ],
      "metadata": {
        "id": "rKTYeQnPSung"
      },
      "id": "rKTYeQnPSung"
    },
    {
      "cell_type": "code",
      "execution_count": null,
      "id": "201a8803-9492-4c65-bafd-5d95d9fb2c0e",
      "metadata": {
        "colab": {
          "base_uri": "https://localhost:8080/"
        },
        "id": "201a8803-9492-4c65-bafd-5d95d9fb2c0e",
        "outputId": "5c52cc1b-2c0b-492d-bc09-0da2ebc8e302"
      },
      "outputs": [
        {
          "output_type": "stream",
          "name": "stdout",
          "text": [
            "<class 'pandas.core.frame.DataFrame'>\n",
            "RangeIndex: 4424 entries, 0 to 4423\n",
            "Data columns (total 37 columns):\n",
            " #   Column                                          Non-Null Count  Dtype  \n",
            "---  ------                                          --------------  -----  \n",
            " 0   Marital status                                  4424 non-null   int64  \n",
            " 1   Application mode                                4424 non-null   int64  \n",
            " 2   Application order                               4424 non-null   int64  \n",
            " 3   Course                                          4424 non-null   int64  \n",
            " 4   Daytime/evening attendance\t                     4424 non-null   int64  \n",
            " 5   Previous qualification                          4424 non-null   int64  \n",
            " 6   Previous qualification (grade)                  4424 non-null   float64\n",
            " 7   Nacionality                                     4424 non-null   int64  \n",
            " 8   Mother's qualification                          4424 non-null   int64  \n",
            " 9   Father's qualification                          4424 non-null   int64  \n",
            " 10  Mother's occupation                             4424 non-null   int64  \n",
            " 11  Father's occupation                             4424 non-null   int64  \n",
            " 12  Admission grade                                 4424 non-null   float64\n",
            " 13  Displaced                                       4424 non-null   int64  \n",
            " 14  Educational special needs                       4424 non-null   int64  \n",
            " 15  Debtor                                          4424 non-null   int64  \n",
            " 16  Tuition fees up to date                         4424 non-null   int64  \n",
            " 17  Gender                                          4424 non-null   int64  \n",
            " 18  Scholarship holder                              4424 non-null   int64  \n",
            " 19  Age at enrollment                               4424 non-null   int64  \n",
            " 20  International                                   4424 non-null   int64  \n",
            " 21  Curricular units 1st sem (credited)             4424 non-null   int64  \n",
            " 22  Curricular units 1st sem (enrolled)             4424 non-null   int64  \n",
            " 23  Curricular units 1st sem (evaluations)          4424 non-null   int64  \n",
            " 24  Curricular units 1st sem (approved)             4424 non-null   int64  \n",
            " 25  Curricular units 1st sem (grade)                4424 non-null   float64\n",
            " 26  Curricular units 1st sem (without evaluations)  4424 non-null   int64  \n",
            " 27  Curricular units 2nd sem (credited)             4424 non-null   int64  \n",
            " 28  Curricular units 2nd sem (enrolled)             4424 non-null   int64  \n",
            " 29  Curricular units 2nd sem (evaluations)          4424 non-null   int64  \n",
            " 30  Curricular units 2nd sem (approved)             4424 non-null   int64  \n",
            " 31  Curricular units 2nd sem (grade)                4424 non-null   float64\n",
            " 32  Curricular units 2nd sem (without evaluations)  4424 non-null   int64  \n",
            " 33  Unemployment rate                               4424 non-null   float64\n",
            " 34  Inflation rate                                  4424 non-null   float64\n",
            " 35  GDP                                             4424 non-null   float64\n",
            " 36  Target                                          4424 non-null   object \n",
            "dtypes: float64(7), int64(29), object(1)\n",
            "memory usage: 1.2+ MB\n"
          ]
        }
      ],
      "source": [
        "df.info()"
      ]
    },
    {
      "cell_type": "markdown",
      "source": [
        "Tampilkan 5 data teratas"
      ],
      "metadata": {
        "id": "C1aKpS0rg2lr"
      },
      "id": "C1aKpS0rg2lr"
    },
    {
      "cell_type": "code",
      "execution_count": null,
      "id": "d17a3ccc-d856-42fc-a0b9-f3b4c4133e3e",
      "metadata": {
        "colab": {
          "base_uri": "https://localhost:8080/",
          "height": 351
        },
        "id": "d17a3ccc-d856-42fc-a0b9-f3b4c4133e3e",
        "outputId": "f021022e-6c69-4aac-d9bc-2540805d1a91"
      },
      "outputs": [
        {
          "output_type": "execute_result",
          "data": {
            "text/plain": [
              "   Marital status  Application mode  Application order  Course  \\\n",
              "0               1                17                  5     171   \n",
              "1               1                15                  1    9254   \n",
              "2               1                 1                  5    9070   \n",
              "3               1                17                  2    9773   \n",
              "4               2                39                  1    8014   \n",
              "\n",
              "   Daytime/evening attendance\\t  Previous qualification  \\\n",
              "0                             1                       1   \n",
              "1                             1                       1   \n",
              "2                             1                       1   \n",
              "3                             1                       1   \n",
              "4                             0                       1   \n",
              "\n",
              "   Previous qualification (grade)  Nacionality  Mother's qualification  \\\n",
              "0                           122.0            1                      19   \n",
              "1                           160.0            1                       1   \n",
              "2                           122.0            1                      37   \n",
              "3                           122.0            1                      38   \n",
              "4                           100.0            1                      37   \n",
              "\n",
              "   Father's qualification  ...  Curricular units 2nd sem (credited)  \\\n",
              "0                      12  ...                                    0   \n",
              "1                       3  ...                                    0   \n",
              "2                      37  ...                                    0   \n",
              "3                      37  ...                                    0   \n",
              "4                      38  ...                                    0   \n",
              "\n",
              "   Curricular units 2nd sem (enrolled)  \\\n",
              "0                                    0   \n",
              "1                                    6   \n",
              "2                                    6   \n",
              "3                                    6   \n",
              "4                                    6   \n",
              "\n",
              "   Curricular units 2nd sem (evaluations)  \\\n",
              "0                                       0   \n",
              "1                                       6   \n",
              "2                                       0   \n",
              "3                                      10   \n",
              "4                                       6   \n",
              "\n",
              "   Curricular units 2nd sem (approved)  Curricular units 2nd sem (grade)  \\\n",
              "0                                    0                          0.000000   \n",
              "1                                    6                         13.666667   \n",
              "2                                    0                          0.000000   \n",
              "3                                    5                         12.400000   \n",
              "4                                    6                         13.000000   \n",
              "\n",
              "   Curricular units 2nd sem (without evaluations)  Unemployment rate  \\\n",
              "0                                               0               10.8   \n",
              "1                                               0               13.9   \n",
              "2                                               0               10.8   \n",
              "3                                               0                9.4   \n",
              "4                                               0               13.9   \n",
              "\n",
              "   Inflation rate   GDP    Target  \n",
              "0             1.4  1.74   Dropout  \n",
              "1            -0.3  0.79  Graduate  \n",
              "2             1.4  1.74   Dropout  \n",
              "3            -0.8 -3.12  Graduate  \n",
              "4            -0.3  0.79  Graduate  \n",
              "\n",
              "[5 rows x 37 columns]"
            ],
            "text/html": [
              "\n",
              "  <div id=\"df-240cd8e7-dc13-4ab2-82d4-549d9a3f50a5\">\n",
              "    <div class=\"colab-df-container\">\n",
              "      <div>\n",
              "<style scoped>\n",
              "    .dataframe tbody tr th:only-of-type {\n",
              "        vertical-align: middle;\n",
              "    }\n",
              "\n",
              "    .dataframe tbody tr th {\n",
              "        vertical-align: top;\n",
              "    }\n",
              "\n",
              "    .dataframe thead th {\n",
              "        text-align: right;\n",
              "    }\n",
              "</style>\n",
              "<table border=\"1\" class=\"dataframe\">\n",
              "  <thead>\n",
              "    <tr style=\"text-align: right;\">\n",
              "      <th></th>\n",
              "      <th>Marital status</th>\n",
              "      <th>Application mode</th>\n",
              "      <th>Application order</th>\n",
              "      <th>Course</th>\n",
              "      <th>Daytime/evening attendance\\t</th>\n",
              "      <th>Previous qualification</th>\n",
              "      <th>Previous qualification (grade)</th>\n",
              "      <th>Nacionality</th>\n",
              "      <th>Mother's qualification</th>\n",
              "      <th>Father's qualification</th>\n",
              "      <th>...</th>\n",
              "      <th>Curricular units 2nd sem (credited)</th>\n",
              "      <th>Curricular units 2nd sem (enrolled)</th>\n",
              "      <th>Curricular units 2nd sem (evaluations)</th>\n",
              "      <th>Curricular units 2nd sem (approved)</th>\n",
              "      <th>Curricular units 2nd sem (grade)</th>\n",
              "      <th>Curricular units 2nd sem (without evaluations)</th>\n",
              "      <th>Unemployment rate</th>\n",
              "      <th>Inflation rate</th>\n",
              "      <th>GDP</th>\n",
              "      <th>Target</th>\n",
              "    </tr>\n",
              "  </thead>\n",
              "  <tbody>\n",
              "    <tr>\n",
              "      <th>0</th>\n",
              "      <td>1</td>\n",
              "      <td>17</td>\n",
              "      <td>5</td>\n",
              "      <td>171</td>\n",
              "      <td>1</td>\n",
              "      <td>1</td>\n",
              "      <td>122.0</td>\n",
              "      <td>1</td>\n",
              "      <td>19</td>\n",
              "      <td>12</td>\n",
              "      <td>...</td>\n",
              "      <td>0</td>\n",
              "      <td>0</td>\n",
              "      <td>0</td>\n",
              "      <td>0</td>\n",
              "      <td>0.000000</td>\n",
              "      <td>0</td>\n",
              "      <td>10.8</td>\n",
              "      <td>1.4</td>\n",
              "      <td>1.74</td>\n",
              "      <td>Dropout</td>\n",
              "    </tr>\n",
              "    <tr>\n",
              "      <th>1</th>\n",
              "      <td>1</td>\n",
              "      <td>15</td>\n",
              "      <td>1</td>\n",
              "      <td>9254</td>\n",
              "      <td>1</td>\n",
              "      <td>1</td>\n",
              "      <td>160.0</td>\n",
              "      <td>1</td>\n",
              "      <td>1</td>\n",
              "      <td>3</td>\n",
              "      <td>...</td>\n",
              "      <td>0</td>\n",
              "      <td>6</td>\n",
              "      <td>6</td>\n",
              "      <td>6</td>\n",
              "      <td>13.666667</td>\n",
              "      <td>0</td>\n",
              "      <td>13.9</td>\n",
              "      <td>-0.3</td>\n",
              "      <td>0.79</td>\n",
              "      <td>Graduate</td>\n",
              "    </tr>\n",
              "    <tr>\n",
              "      <th>2</th>\n",
              "      <td>1</td>\n",
              "      <td>1</td>\n",
              "      <td>5</td>\n",
              "      <td>9070</td>\n",
              "      <td>1</td>\n",
              "      <td>1</td>\n",
              "      <td>122.0</td>\n",
              "      <td>1</td>\n",
              "      <td>37</td>\n",
              "      <td>37</td>\n",
              "      <td>...</td>\n",
              "      <td>0</td>\n",
              "      <td>6</td>\n",
              "      <td>0</td>\n",
              "      <td>0</td>\n",
              "      <td>0.000000</td>\n",
              "      <td>0</td>\n",
              "      <td>10.8</td>\n",
              "      <td>1.4</td>\n",
              "      <td>1.74</td>\n",
              "      <td>Dropout</td>\n",
              "    </tr>\n",
              "    <tr>\n",
              "      <th>3</th>\n",
              "      <td>1</td>\n",
              "      <td>17</td>\n",
              "      <td>2</td>\n",
              "      <td>9773</td>\n",
              "      <td>1</td>\n",
              "      <td>1</td>\n",
              "      <td>122.0</td>\n",
              "      <td>1</td>\n",
              "      <td>38</td>\n",
              "      <td>37</td>\n",
              "      <td>...</td>\n",
              "      <td>0</td>\n",
              "      <td>6</td>\n",
              "      <td>10</td>\n",
              "      <td>5</td>\n",
              "      <td>12.400000</td>\n",
              "      <td>0</td>\n",
              "      <td>9.4</td>\n",
              "      <td>-0.8</td>\n",
              "      <td>-3.12</td>\n",
              "      <td>Graduate</td>\n",
              "    </tr>\n",
              "    <tr>\n",
              "      <th>4</th>\n",
              "      <td>2</td>\n",
              "      <td>39</td>\n",
              "      <td>1</td>\n",
              "      <td>8014</td>\n",
              "      <td>0</td>\n",
              "      <td>1</td>\n",
              "      <td>100.0</td>\n",
              "      <td>1</td>\n",
              "      <td>37</td>\n",
              "      <td>38</td>\n",
              "      <td>...</td>\n",
              "      <td>0</td>\n",
              "      <td>6</td>\n",
              "      <td>6</td>\n",
              "      <td>6</td>\n",
              "      <td>13.000000</td>\n",
              "      <td>0</td>\n",
              "      <td>13.9</td>\n",
              "      <td>-0.3</td>\n",
              "      <td>0.79</td>\n",
              "      <td>Graduate</td>\n",
              "    </tr>\n",
              "  </tbody>\n",
              "</table>\n",
              "<p>5 rows × 37 columns</p>\n",
              "</div>\n",
              "      <button class=\"colab-df-convert\" onclick=\"convertToInteractive('df-240cd8e7-dc13-4ab2-82d4-549d9a3f50a5')\"\n",
              "              title=\"Convert this dataframe to an interactive table.\"\n",
              "              style=\"display:none;\">\n",
              "        \n",
              "  <svg xmlns=\"http://www.w3.org/2000/svg\" height=\"24px\"viewBox=\"0 0 24 24\"\n",
              "       width=\"24px\">\n",
              "    <path d=\"M0 0h24v24H0V0z\" fill=\"none\"/>\n",
              "    <path d=\"M18.56 5.44l.94 2.06.94-2.06 2.06-.94-2.06-.94-.94-2.06-.94 2.06-2.06.94zm-11 1L8.5 8.5l.94-2.06 2.06-.94-2.06-.94L8.5 2.5l-.94 2.06-2.06.94zm10 10l.94 2.06.94-2.06 2.06-.94-2.06-.94-.94-2.06-.94 2.06-2.06.94z\"/><path d=\"M17.41 7.96l-1.37-1.37c-.4-.4-.92-.59-1.43-.59-.52 0-1.04.2-1.43.59L10.3 9.45l-7.72 7.72c-.78.78-.78 2.05 0 2.83L4 21.41c.39.39.9.59 1.41.59.51 0 1.02-.2 1.41-.59l7.78-7.78 2.81-2.81c.8-.78.8-2.07 0-2.86zM5.41 20L4 18.59l7.72-7.72 1.47 1.35L5.41 20z\"/>\n",
              "  </svg>\n",
              "      </button>\n",
              "      \n",
              "  <style>\n",
              "    .colab-df-container {\n",
              "      display:flex;\n",
              "      flex-wrap:wrap;\n",
              "      gap: 12px;\n",
              "    }\n",
              "\n",
              "    .colab-df-convert {\n",
              "      background-color: #E8F0FE;\n",
              "      border: none;\n",
              "      border-radius: 50%;\n",
              "      cursor: pointer;\n",
              "      display: none;\n",
              "      fill: #1967D2;\n",
              "      height: 32px;\n",
              "      padding: 0 0 0 0;\n",
              "      width: 32px;\n",
              "    }\n",
              "\n",
              "    .colab-df-convert:hover {\n",
              "      background-color: #E2EBFA;\n",
              "      box-shadow: 0px 1px 2px rgba(60, 64, 67, 0.3), 0px 1px 3px 1px rgba(60, 64, 67, 0.15);\n",
              "      fill: #174EA6;\n",
              "    }\n",
              "\n",
              "    [theme=dark] .colab-df-convert {\n",
              "      background-color: #3B4455;\n",
              "      fill: #D2E3FC;\n",
              "    }\n",
              "\n",
              "    [theme=dark] .colab-df-convert:hover {\n",
              "      background-color: #434B5C;\n",
              "      box-shadow: 0px 1px 3px 1px rgba(0, 0, 0, 0.15);\n",
              "      filter: drop-shadow(0px 1px 2px rgba(0, 0, 0, 0.3));\n",
              "      fill: #FFFFFF;\n",
              "    }\n",
              "  </style>\n",
              "\n",
              "      <script>\n",
              "        const buttonEl =\n",
              "          document.querySelector('#df-240cd8e7-dc13-4ab2-82d4-549d9a3f50a5 button.colab-df-convert');\n",
              "        buttonEl.style.display =\n",
              "          google.colab.kernel.accessAllowed ? 'block' : 'none';\n",
              "\n",
              "        async function convertToInteractive(key) {\n",
              "          const element = document.querySelector('#df-240cd8e7-dc13-4ab2-82d4-549d9a3f50a5');\n",
              "          const dataTable =\n",
              "            await google.colab.kernel.invokeFunction('convertToInteractive',\n",
              "                                                     [key], {});\n",
              "          if (!dataTable) return;\n",
              "\n",
              "          const docLinkHtml = 'Like what you see? Visit the ' +\n",
              "            '<a target=\"_blank\" href=https://colab.research.google.com/notebooks/data_table.ipynb>data table notebook</a>'\n",
              "            + ' to learn more about interactive tables.';\n",
              "          element.innerHTML = '';\n",
              "          dataTable['output_type'] = 'display_data';\n",
              "          await google.colab.output.renderOutput(dataTable, element);\n",
              "          const docLink = document.createElement('div');\n",
              "          docLink.innerHTML = docLinkHtml;\n",
              "          element.appendChild(docLink);\n",
              "        }\n",
              "      </script>\n",
              "    </div>\n",
              "  </div>\n",
              "  "
            ]
          },
          "metadata": {},
          "execution_count": 4
        }
      ],
      "source": [
        "df.head()"
      ]
    },
    {
      "cell_type": "markdown",
      "source": [
        "Tampilkan 5 data terbawah"
      ],
      "metadata": {
        "id": "R8sf-dokg4zi"
      },
      "id": "R8sf-dokg4zi"
    },
    {
      "cell_type": "code",
      "execution_count": null,
      "id": "3238914e-94b1-4d22-af36-d7f4527fb481",
      "metadata": {
        "tags": [],
        "colab": {
          "base_uri": "https://localhost:8080/",
          "height": 351
        },
        "id": "3238914e-94b1-4d22-af36-d7f4527fb481",
        "outputId": "19e9838a-b637-4c0c-b717-02e718127ca6"
      },
      "outputs": [
        {
          "output_type": "execute_result",
          "data": {
            "text/plain": [
              "      Marital status  Application mode  Application order  Course  \\\n",
              "4419               1                 1                  6    9773   \n",
              "4420               1                 1                  2    9773   \n",
              "4421               1                 1                  1    9500   \n",
              "4422               1                 1                  1    9147   \n",
              "4423               1                10                  1    9773   \n",
              "\n",
              "      Daytime/evening attendance\\t  Previous qualification  \\\n",
              "4419                             1                       1   \n",
              "4420                             1                       1   \n",
              "4421                             1                       1   \n",
              "4422                             1                       1   \n",
              "4423                             1                       1   \n",
              "\n",
              "      Previous qualification (grade)  Nacionality  Mother's qualification  \\\n",
              "4419                           125.0            1                       1   \n",
              "4420                           120.0          105                       1   \n",
              "4421                           154.0            1                      37   \n",
              "4422                           180.0            1                      37   \n",
              "4423                           152.0           22                      38   \n",
              "\n",
              "      Father's qualification  ...  Curricular units 2nd sem (credited)  \\\n",
              "4419                       1  ...                                    0   \n",
              "4420                       1  ...                                    0   \n",
              "4421                      37  ...                                    0   \n",
              "4422                      37  ...                                    0   \n",
              "4423                      37  ...                                    0   \n",
              "\n",
              "      Curricular units 2nd sem (enrolled)  \\\n",
              "4419                                    6   \n",
              "4420                                    6   \n",
              "4421                                    8   \n",
              "4422                                    5   \n",
              "4423                                    6   \n",
              "\n",
              "      Curricular units 2nd sem (evaluations)  \\\n",
              "4419                                       8   \n",
              "4420                                       6   \n",
              "4421                                       9   \n",
              "4422                                       6   \n",
              "4423                                       6   \n",
              "\n",
              "      Curricular units 2nd sem (approved)  Curricular units 2nd sem (grade)  \\\n",
              "4419                                    5                         12.666667   \n",
              "4420                                    2                         11.000000   \n",
              "4421                                    1                         13.500000   \n",
              "4422                                    5                         12.000000   \n",
              "4423                                    6                         13.000000   \n",
              "\n",
              "      Curricular units 2nd sem (without evaluations)  Unemployment rate  \\\n",
              "4419                                               0               15.5   \n",
              "4420                                               0               11.1   \n",
              "4421                                               0               13.9   \n",
              "4422                                               0                9.4   \n",
              "4423                                               0               12.7   \n",
              "\n",
              "      Inflation rate   GDP    Target  \n",
              "4419             2.8 -4.06  Graduate  \n",
              "4420             0.6  2.02   Dropout  \n",
              "4421            -0.3  0.79   Dropout  \n",
              "4422            -0.8 -3.12  Graduate  \n",
              "4423             3.7 -1.70  Graduate  \n",
              "\n",
              "[5 rows x 37 columns]"
            ],
            "text/html": [
              "\n",
              "  <div id=\"df-adec4324-2bba-4717-bb1c-1d1e6c360c6a\">\n",
              "    <div class=\"colab-df-container\">\n",
              "      <div>\n",
              "<style scoped>\n",
              "    .dataframe tbody tr th:only-of-type {\n",
              "        vertical-align: middle;\n",
              "    }\n",
              "\n",
              "    .dataframe tbody tr th {\n",
              "        vertical-align: top;\n",
              "    }\n",
              "\n",
              "    .dataframe thead th {\n",
              "        text-align: right;\n",
              "    }\n",
              "</style>\n",
              "<table border=\"1\" class=\"dataframe\">\n",
              "  <thead>\n",
              "    <tr style=\"text-align: right;\">\n",
              "      <th></th>\n",
              "      <th>Marital status</th>\n",
              "      <th>Application mode</th>\n",
              "      <th>Application order</th>\n",
              "      <th>Course</th>\n",
              "      <th>Daytime/evening attendance\\t</th>\n",
              "      <th>Previous qualification</th>\n",
              "      <th>Previous qualification (grade)</th>\n",
              "      <th>Nacionality</th>\n",
              "      <th>Mother's qualification</th>\n",
              "      <th>Father's qualification</th>\n",
              "      <th>...</th>\n",
              "      <th>Curricular units 2nd sem (credited)</th>\n",
              "      <th>Curricular units 2nd sem (enrolled)</th>\n",
              "      <th>Curricular units 2nd sem (evaluations)</th>\n",
              "      <th>Curricular units 2nd sem (approved)</th>\n",
              "      <th>Curricular units 2nd sem (grade)</th>\n",
              "      <th>Curricular units 2nd sem (without evaluations)</th>\n",
              "      <th>Unemployment rate</th>\n",
              "      <th>Inflation rate</th>\n",
              "      <th>GDP</th>\n",
              "      <th>Target</th>\n",
              "    </tr>\n",
              "  </thead>\n",
              "  <tbody>\n",
              "    <tr>\n",
              "      <th>4419</th>\n",
              "      <td>1</td>\n",
              "      <td>1</td>\n",
              "      <td>6</td>\n",
              "      <td>9773</td>\n",
              "      <td>1</td>\n",
              "      <td>1</td>\n",
              "      <td>125.0</td>\n",
              "      <td>1</td>\n",
              "      <td>1</td>\n",
              "      <td>1</td>\n",
              "      <td>...</td>\n",
              "      <td>0</td>\n",
              "      <td>6</td>\n",
              "      <td>8</td>\n",
              "      <td>5</td>\n",
              "      <td>12.666667</td>\n",
              "      <td>0</td>\n",
              "      <td>15.5</td>\n",
              "      <td>2.8</td>\n",
              "      <td>-4.06</td>\n",
              "      <td>Graduate</td>\n",
              "    </tr>\n",
              "    <tr>\n",
              "      <th>4420</th>\n",
              "      <td>1</td>\n",
              "      <td>1</td>\n",
              "      <td>2</td>\n",
              "      <td>9773</td>\n",
              "      <td>1</td>\n",
              "      <td>1</td>\n",
              "      <td>120.0</td>\n",
              "      <td>105</td>\n",
              "      <td>1</td>\n",
              "      <td>1</td>\n",
              "      <td>...</td>\n",
              "      <td>0</td>\n",
              "      <td>6</td>\n",
              "      <td>6</td>\n",
              "      <td>2</td>\n",
              "      <td>11.000000</td>\n",
              "      <td>0</td>\n",
              "      <td>11.1</td>\n",
              "      <td>0.6</td>\n",
              "      <td>2.02</td>\n",
              "      <td>Dropout</td>\n",
              "    </tr>\n",
              "    <tr>\n",
              "      <th>4421</th>\n",
              "      <td>1</td>\n",
              "      <td>1</td>\n",
              "      <td>1</td>\n",
              "      <td>9500</td>\n",
              "      <td>1</td>\n",
              "      <td>1</td>\n",
              "      <td>154.0</td>\n",
              "      <td>1</td>\n",
              "      <td>37</td>\n",
              "      <td>37</td>\n",
              "      <td>...</td>\n",
              "      <td>0</td>\n",
              "      <td>8</td>\n",
              "      <td>9</td>\n",
              "      <td>1</td>\n",
              "      <td>13.500000</td>\n",
              "      <td>0</td>\n",
              "      <td>13.9</td>\n",
              "      <td>-0.3</td>\n",
              "      <td>0.79</td>\n",
              "      <td>Dropout</td>\n",
              "    </tr>\n",
              "    <tr>\n",
              "      <th>4422</th>\n",
              "      <td>1</td>\n",
              "      <td>1</td>\n",
              "      <td>1</td>\n",
              "      <td>9147</td>\n",
              "      <td>1</td>\n",
              "      <td>1</td>\n",
              "      <td>180.0</td>\n",
              "      <td>1</td>\n",
              "      <td>37</td>\n",
              "      <td>37</td>\n",
              "      <td>...</td>\n",
              "      <td>0</td>\n",
              "      <td>5</td>\n",
              "      <td>6</td>\n",
              "      <td>5</td>\n",
              "      <td>12.000000</td>\n",
              "      <td>0</td>\n",
              "      <td>9.4</td>\n",
              "      <td>-0.8</td>\n",
              "      <td>-3.12</td>\n",
              "      <td>Graduate</td>\n",
              "    </tr>\n",
              "    <tr>\n",
              "      <th>4423</th>\n",
              "      <td>1</td>\n",
              "      <td>10</td>\n",
              "      <td>1</td>\n",
              "      <td>9773</td>\n",
              "      <td>1</td>\n",
              "      <td>1</td>\n",
              "      <td>152.0</td>\n",
              "      <td>22</td>\n",
              "      <td>38</td>\n",
              "      <td>37</td>\n",
              "      <td>...</td>\n",
              "      <td>0</td>\n",
              "      <td>6</td>\n",
              "      <td>6</td>\n",
              "      <td>6</td>\n",
              "      <td>13.000000</td>\n",
              "      <td>0</td>\n",
              "      <td>12.7</td>\n",
              "      <td>3.7</td>\n",
              "      <td>-1.70</td>\n",
              "      <td>Graduate</td>\n",
              "    </tr>\n",
              "  </tbody>\n",
              "</table>\n",
              "<p>5 rows × 37 columns</p>\n",
              "</div>\n",
              "      <button class=\"colab-df-convert\" onclick=\"convertToInteractive('df-adec4324-2bba-4717-bb1c-1d1e6c360c6a')\"\n",
              "              title=\"Convert this dataframe to an interactive table.\"\n",
              "              style=\"display:none;\">\n",
              "        \n",
              "  <svg xmlns=\"http://www.w3.org/2000/svg\" height=\"24px\"viewBox=\"0 0 24 24\"\n",
              "       width=\"24px\">\n",
              "    <path d=\"M0 0h24v24H0V0z\" fill=\"none\"/>\n",
              "    <path d=\"M18.56 5.44l.94 2.06.94-2.06 2.06-.94-2.06-.94-.94-2.06-.94 2.06-2.06.94zm-11 1L8.5 8.5l.94-2.06 2.06-.94-2.06-.94L8.5 2.5l-.94 2.06-2.06.94zm10 10l.94 2.06.94-2.06 2.06-.94-2.06-.94-.94-2.06-.94 2.06-2.06.94z\"/><path d=\"M17.41 7.96l-1.37-1.37c-.4-.4-.92-.59-1.43-.59-.52 0-1.04.2-1.43.59L10.3 9.45l-7.72 7.72c-.78.78-.78 2.05 0 2.83L4 21.41c.39.39.9.59 1.41.59.51 0 1.02-.2 1.41-.59l7.78-7.78 2.81-2.81c.8-.78.8-2.07 0-2.86zM5.41 20L4 18.59l7.72-7.72 1.47 1.35L5.41 20z\"/>\n",
              "  </svg>\n",
              "      </button>\n",
              "      \n",
              "  <style>\n",
              "    .colab-df-container {\n",
              "      display:flex;\n",
              "      flex-wrap:wrap;\n",
              "      gap: 12px;\n",
              "    }\n",
              "\n",
              "    .colab-df-convert {\n",
              "      background-color: #E8F0FE;\n",
              "      border: none;\n",
              "      border-radius: 50%;\n",
              "      cursor: pointer;\n",
              "      display: none;\n",
              "      fill: #1967D2;\n",
              "      height: 32px;\n",
              "      padding: 0 0 0 0;\n",
              "      width: 32px;\n",
              "    }\n",
              "\n",
              "    .colab-df-convert:hover {\n",
              "      background-color: #E2EBFA;\n",
              "      box-shadow: 0px 1px 2px rgba(60, 64, 67, 0.3), 0px 1px 3px 1px rgba(60, 64, 67, 0.15);\n",
              "      fill: #174EA6;\n",
              "    }\n",
              "\n",
              "    [theme=dark] .colab-df-convert {\n",
              "      background-color: #3B4455;\n",
              "      fill: #D2E3FC;\n",
              "    }\n",
              "\n",
              "    [theme=dark] .colab-df-convert:hover {\n",
              "      background-color: #434B5C;\n",
              "      box-shadow: 0px 1px 3px 1px rgba(0, 0, 0, 0.15);\n",
              "      filter: drop-shadow(0px 1px 2px rgba(0, 0, 0, 0.3));\n",
              "      fill: #FFFFFF;\n",
              "    }\n",
              "  </style>\n",
              "\n",
              "      <script>\n",
              "        const buttonEl =\n",
              "          document.querySelector('#df-adec4324-2bba-4717-bb1c-1d1e6c360c6a button.colab-df-convert');\n",
              "        buttonEl.style.display =\n",
              "          google.colab.kernel.accessAllowed ? 'block' : 'none';\n",
              "\n",
              "        async function convertToInteractive(key) {\n",
              "          const element = document.querySelector('#df-adec4324-2bba-4717-bb1c-1d1e6c360c6a');\n",
              "          const dataTable =\n",
              "            await google.colab.kernel.invokeFunction('convertToInteractive',\n",
              "                                                     [key], {});\n",
              "          if (!dataTable) return;\n",
              "\n",
              "          const docLinkHtml = 'Like what you see? Visit the ' +\n",
              "            '<a target=\"_blank\" href=https://colab.research.google.com/notebooks/data_table.ipynb>data table notebook</a>'\n",
              "            + ' to learn more about interactive tables.';\n",
              "          element.innerHTML = '';\n",
              "          dataTable['output_type'] = 'display_data';\n",
              "          await google.colab.output.renderOutput(dataTable, element);\n",
              "          const docLink = document.createElement('div');\n",
              "          docLink.innerHTML = docLinkHtml;\n",
              "          element.appendChild(docLink);\n",
              "        }\n",
              "      </script>\n",
              "    </div>\n",
              "  </div>\n",
              "  "
            ]
          },
          "metadata": {},
          "execution_count": 5
        }
      ],
      "source": [
        "df.tail()"
      ]
    },
    {
      "cell_type": "markdown",
      "id": "4251edf2-85ed-477d-9ccb-936dd4b93bb8",
      "metadata": {
        "id": "4251edf2-85ed-477d-9ccb-936dd4b93bb8"
      },
      "source": [
        "## PREPROCESSING"
      ]
    },
    {
      "cell_type": "markdown",
      "source": [
        "Cek infonya lagi"
      ],
      "metadata": {
        "id": "C31ARF6yhVAi"
      },
      "id": "C31ARF6yhVAi"
    },
    {
      "cell_type": "code",
      "execution_count": null,
      "id": "a000e0b6-59db-4479-9cd3-70a354faac10",
      "metadata": {
        "colab": {
          "base_uri": "https://localhost:8080/"
        },
        "id": "a000e0b6-59db-4479-9cd3-70a354faac10",
        "outputId": "67790127-b9f3-4e2e-cbee-c4cbfdca0a86"
      },
      "outputs": [
        {
          "output_type": "stream",
          "name": "stdout",
          "text": [
            "<class 'pandas.core.frame.DataFrame'>\n",
            "RangeIndex: 4424 entries, 0 to 4423\n",
            "Data columns (total 37 columns):\n",
            " #   Column                                          Non-Null Count  Dtype  \n",
            "---  ------                                          --------------  -----  \n",
            " 0   Marital status                                  4424 non-null   int64  \n",
            " 1   Application mode                                4424 non-null   int64  \n",
            " 2   Application order                               4424 non-null   int64  \n",
            " 3   Course                                          4424 non-null   int64  \n",
            " 4   Daytime/evening attendance\t                     4424 non-null   int64  \n",
            " 5   Previous qualification                          4424 non-null   int64  \n",
            " 6   Previous qualification (grade)                  4424 non-null   float64\n",
            " 7   Nacionality                                     4424 non-null   int64  \n",
            " 8   Mother's qualification                          4424 non-null   int64  \n",
            " 9   Father's qualification                          4424 non-null   int64  \n",
            " 10  Mother's occupation                             4424 non-null   int64  \n",
            " 11  Father's occupation                             4424 non-null   int64  \n",
            " 12  Admission grade                                 4424 non-null   float64\n",
            " 13  Displaced                                       4424 non-null   int64  \n",
            " 14  Educational special needs                       4424 non-null   int64  \n",
            " 15  Debtor                                          4424 non-null   int64  \n",
            " 16  Tuition fees up to date                         4424 non-null   int64  \n",
            " 17  Gender                                          4424 non-null   int64  \n",
            " 18  Scholarship holder                              4424 non-null   int64  \n",
            " 19  Age at enrollment                               4424 non-null   int64  \n",
            " 20  International                                   4424 non-null   int64  \n",
            " 21  Curricular units 1st sem (credited)             4424 non-null   int64  \n",
            " 22  Curricular units 1st sem (enrolled)             4424 non-null   int64  \n",
            " 23  Curricular units 1st sem (evaluations)          4424 non-null   int64  \n",
            " 24  Curricular units 1st sem (approved)             4424 non-null   int64  \n",
            " 25  Curricular units 1st sem (grade)                4424 non-null   float64\n",
            " 26  Curricular units 1st sem (without evaluations)  4424 non-null   int64  \n",
            " 27  Curricular units 2nd sem (credited)             4424 non-null   int64  \n",
            " 28  Curricular units 2nd sem (enrolled)             4424 non-null   int64  \n",
            " 29  Curricular units 2nd sem (evaluations)          4424 non-null   int64  \n",
            " 30  Curricular units 2nd sem (approved)             4424 non-null   int64  \n",
            " 31  Curricular units 2nd sem (grade)                4424 non-null   float64\n",
            " 32  Curricular units 2nd sem (without evaluations)  4424 non-null   int64  \n",
            " 33  Unemployment rate                               4424 non-null   float64\n",
            " 34  Inflation rate                                  4424 non-null   float64\n",
            " 35  GDP                                             4424 non-null   float64\n",
            " 36  Target                                          4424 non-null   object \n",
            "dtypes: float64(7), int64(29), object(1)\n",
            "memory usage: 1.2+ MB\n"
          ]
        }
      ],
      "source": [
        "df.info()"
      ]
    },
    {
      "cell_type": "markdown",
      "source": [
        "Cek jumlah null values / missing valuesnya"
      ],
      "metadata": {
        "id": "5t1g645ag94L"
      },
      "id": "5t1g645ag94L"
    },
    {
      "cell_type": "code",
      "execution_count": null,
      "id": "e1f524ed-cf1a-46dc-a779-c96e213aecea",
      "metadata": {
        "colab": {
          "base_uri": "https://localhost:8080/"
        },
        "id": "e1f524ed-cf1a-46dc-a779-c96e213aecea",
        "outputId": "e5d69ac1-0bd4-4e53-9839-97cd729aad89"
      },
      "outputs": [
        {
          "output_type": "execute_result",
          "data": {
            "text/plain": [
              "Marital status                                    0\n",
              "Application mode                                  0\n",
              "Application order                                 0\n",
              "Course                                            0\n",
              "Daytime/evening attendance\\t                      0\n",
              "Previous qualification                            0\n",
              "Previous qualification (grade)                    0\n",
              "Nacionality                                       0\n",
              "Mother's qualification                            0\n",
              "Father's qualification                            0\n",
              "Mother's occupation                               0\n",
              "Father's occupation                               0\n",
              "Admission grade                                   0\n",
              "Displaced                                         0\n",
              "Educational special needs                         0\n",
              "Debtor                                            0\n",
              "Tuition fees up to date                           0\n",
              "Gender                                            0\n",
              "Scholarship holder                                0\n",
              "Age at enrollment                                 0\n",
              "International                                     0\n",
              "Curricular units 1st sem (credited)               0\n",
              "Curricular units 1st sem (enrolled)               0\n",
              "Curricular units 1st sem (evaluations)            0\n",
              "Curricular units 1st sem (approved)               0\n",
              "Curricular units 1st sem (grade)                  0\n",
              "Curricular units 1st sem (without evaluations)    0\n",
              "Curricular units 2nd sem (credited)               0\n",
              "Curricular units 2nd sem (enrolled)               0\n",
              "Curricular units 2nd sem (evaluations)            0\n",
              "Curricular units 2nd sem (approved)               0\n",
              "Curricular units 2nd sem (grade)                  0\n",
              "Curricular units 2nd sem (without evaluations)    0\n",
              "Unemployment rate                                 0\n",
              "Inflation rate                                    0\n",
              "GDP                                               0\n",
              "Target                                            0\n",
              "dtype: int64"
            ]
          },
          "metadata": {},
          "execution_count": 7
        }
      ],
      "source": [
        "df.isna().sum()"
      ]
    },
    {
      "cell_type": "markdown",
      "id": "fc75cac6-e889-46a8-8426-69c4de6757f5",
      "metadata": {
        "id": "fc75cac6-e889-46a8-8426-69c4de6757f5"
      },
      "source": [
        "> Bisa dilihat diatas, bahwa tidak ada missing & Null values"
      ]
    },
    {
      "cell_type": "markdown",
      "source": [
        "Selanjutnya kita perbaiki nama kolom"
      ],
      "metadata": {
        "id": "6ZYkOeAdhb4r"
      },
      "id": "6ZYkOeAdhb4r"
    },
    {
      "cell_type": "code",
      "execution_count": null,
      "id": "5e2b3dc7-fbc1-4817-823a-06cbac1d9e77",
      "metadata": {
        "id": "5e2b3dc7-fbc1-4817-823a-06cbac1d9e77"
      },
      "outputs": [],
      "source": [
        "df = df.rename(columns = {\"Nacionality\" : \"Nationality\"})"
      ]
    },
    {
      "cell_type": "markdown",
      "source": [
        "Menampilkan unique value dari Target"
      ],
      "metadata": {
        "id": "0PUDojPKhp9J"
      },
      "id": "0PUDojPKhp9J"
    },
    {
      "cell_type": "code",
      "source": [
        "df[\"Target\"].unique()"
      ],
      "metadata": {
        "colab": {
          "base_uri": "https://localhost:8080/"
        },
        "id": "iTxWyx3FhnGp",
        "outputId": "e92664d7-ffa6-414b-e99e-55e300da9cf4"
      },
      "id": "iTxWyx3FhnGp",
      "execution_count": null,
      "outputs": [
        {
          "output_type": "execute_result",
          "data": {
            "text/plain": [
              "array(['Dropout', 'Graduate', 'Enrolled'], dtype=object)"
            ]
          },
          "metadata": {},
          "execution_count": 9
        }
      ]
    },
    {
      "cell_type": "markdown",
      "id": "a7cf4138-ce48-49f5-9894-4bcab7dc0c5f",
      "metadata": {
        "id": "a7cf4138-ce48-49f5-9894-4bcab7dc0c5f"
      },
      "source": [
        "> Karena kita ingin predict dropout atau graduate, maka data \"Enrolled\" akan kita hapus karena tidak relevan."
      ]
    },
    {
      "cell_type": "code",
      "execution_count": null,
      "id": "c0b1e794-504f-48db-bd8b-539e0f4ae1b5",
      "metadata": {
        "colab": {
          "base_uri": "https://localhost:8080/",
          "height": 351
        },
        "id": "c0b1e794-504f-48db-bd8b-539e0f4ae1b5",
        "outputId": "0353d96c-20aa-415d-afda-95be689db3b1"
      },
      "outputs": [
        {
          "output_type": "execute_result",
          "data": {
            "text/plain": [
              "   Marital status  Application mode  Application order  Course  \\\n",
              "0               1                17                  5     171   \n",
              "1               1                15                  1    9254   \n",
              "2               1                 1                  5    9070   \n",
              "3               1                17                  2    9773   \n",
              "4               2                39                  1    8014   \n",
              "\n",
              "   Daytime/evening attendance\\t  Previous qualification  \\\n",
              "0                             1                       1   \n",
              "1                             1                       1   \n",
              "2                             1                       1   \n",
              "3                             1                       1   \n",
              "4                             0                       1   \n",
              "\n",
              "   Previous qualification (grade)  Nationality  Mother's qualification  \\\n",
              "0                           122.0            1                      19   \n",
              "1                           160.0            1                       1   \n",
              "2                           122.0            1                      37   \n",
              "3                           122.0            1                      38   \n",
              "4                           100.0            1                      37   \n",
              "\n",
              "   Father's qualification  ...  Curricular units 2nd sem (credited)  \\\n",
              "0                      12  ...                                    0   \n",
              "1                       3  ...                                    0   \n",
              "2                      37  ...                                    0   \n",
              "3                      37  ...                                    0   \n",
              "4                      38  ...                                    0   \n",
              "\n",
              "   Curricular units 2nd sem (enrolled)  \\\n",
              "0                                    0   \n",
              "1                                    6   \n",
              "2                                    6   \n",
              "3                                    6   \n",
              "4                                    6   \n",
              "\n",
              "   Curricular units 2nd sem (evaluations)  \\\n",
              "0                                       0   \n",
              "1                                       6   \n",
              "2                                       0   \n",
              "3                                      10   \n",
              "4                                       6   \n",
              "\n",
              "   Curricular units 2nd sem (approved)  Curricular units 2nd sem (grade)  \\\n",
              "0                                    0                          0.000000   \n",
              "1                                    6                         13.666667   \n",
              "2                                    0                          0.000000   \n",
              "3                                    5                         12.400000   \n",
              "4                                    6                         13.000000   \n",
              "\n",
              "   Curricular units 2nd sem (without evaluations)  Unemployment rate  \\\n",
              "0                                               0               10.8   \n",
              "1                                               0               13.9   \n",
              "2                                               0               10.8   \n",
              "3                                               0                9.4   \n",
              "4                                               0               13.9   \n",
              "\n",
              "   Inflation rate   GDP    Target  \n",
              "0             1.4  1.74   Dropout  \n",
              "1            -0.3  0.79  Graduate  \n",
              "2             1.4  1.74   Dropout  \n",
              "3            -0.8 -3.12  Graduate  \n",
              "4            -0.3  0.79  Graduate  \n",
              "\n",
              "[5 rows x 37 columns]"
            ],
            "text/html": [
              "\n",
              "  <div id=\"df-3d83a675-cd8b-4fc4-b89a-0f364201b758\">\n",
              "    <div class=\"colab-df-container\">\n",
              "      <div>\n",
              "<style scoped>\n",
              "    .dataframe tbody tr th:only-of-type {\n",
              "        vertical-align: middle;\n",
              "    }\n",
              "\n",
              "    .dataframe tbody tr th {\n",
              "        vertical-align: top;\n",
              "    }\n",
              "\n",
              "    .dataframe thead th {\n",
              "        text-align: right;\n",
              "    }\n",
              "</style>\n",
              "<table border=\"1\" class=\"dataframe\">\n",
              "  <thead>\n",
              "    <tr style=\"text-align: right;\">\n",
              "      <th></th>\n",
              "      <th>Marital status</th>\n",
              "      <th>Application mode</th>\n",
              "      <th>Application order</th>\n",
              "      <th>Course</th>\n",
              "      <th>Daytime/evening attendance\\t</th>\n",
              "      <th>Previous qualification</th>\n",
              "      <th>Previous qualification (grade)</th>\n",
              "      <th>Nationality</th>\n",
              "      <th>Mother's qualification</th>\n",
              "      <th>Father's qualification</th>\n",
              "      <th>...</th>\n",
              "      <th>Curricular units 2nd sem (credited)</th>\n",
              "      <th>Curricular units 2nd sem (enrolled)</th>\n",
              "      <th>Curricular units 2nd sem (evaluations)</th>\n",
              "      <th>Curricular units 2nd sem (approved)</th>\n",
              "      <th>Curricular units 2nd sem (grade)</th>\n",
              "      <th>Curricular units 2nd sem (without evaluations)</th>\n",
              "      <th>Unemployment rate</th>\n",
              "      <th>Inflation rate</th>\n",
              "      <th>GDP</th>\n",
              "      <th>Target</th>\n",
              "    </tr>\n",
              "  </thead>\n",
              "  <tbody>\n",
              "    <tr>\n",
              "      <th>0</th>\n",
              "      <td>1</td>\n",
              "      <td>17</td>\n",
              "      <td>5</td>\n",
              "      <td>171</td>\n",
              "      <td>1</td>\n",
              "      <td>1</td>\n",
              "      <td>122.0</td>\n",
              "      <td>1</td>\n",
              "      <td>19</td>\n",
              "      <td>12</td>\n",
              "      <td>...</td>\n",
              "      <td>0</td>\n",
              "      <td>0</td>\n",
              "      <td>0</td>\n",
              "      <td>0</td>\n",
              "      <td>0.000000</td>\n",
              "      <td>0</td>\n",
              "      <td>10.8</td>\n",
              "      <td>1.4</td>\n",
              "      <td>1.74</td>\n",
              "      <td>Dropout</td>\n",
              "    </tr>\n",
              "    <tr>\n",
              "      <th>1</th>\n",
              "      <td>1</td>\n",
              "      <td>15</td>\n",
              "      <td>1</td>\n",
              "      <td>9254</td>\n",
              "      <td>1</td>\n",
              "      <td>1</td>\n",
              "      <td>160.0</td>\n",
              "      <td>1</td>\n",
              "      <td>1</td>\n",
              "      <td>3</td>\n",
              "      <td>...</td>\n",
              "      <td>0</td>\n",
              "      <td>6</td>\n",
              "      <td>6</td>\n",
              "      <td>6</td>\n",
              "      <td>13.666667</td>\n",
              "      <td>0</td>\n",
              "      <td>13.9</td>\n",
              "      <td>-0.3</td>\n",
              "      <td>0.79</td>\n",
              "      <td>Graduate</td>\n",
              "    </tr>\n",
              "    <tr>\n",
              "      <th>2</th>\n",
              "      <td>1</td>\n",
              "      <td>1</td>\n",
              "      <td>5</td>\n",
              "      <td>9070</td>\n",
              "      <td>1</td>\n",
              "      <td>1</td>\n",
              "      <td>122.0</td>\n",
              "      <td>1</td>\n",
              "      <td>37</td>\n",
              "      <td>37</td>\n",
              "      <td>...</td>\n",
              "      <td>0</td>\n",
              "      <td>6</td>\n",
              "      <td>0</td>\n",
              "      <td>0</td>\n",
              "      <td>0.000000</td>\n",
              "      <td>0</td>\n",
              "      <td>10.8</td>\n",
              "      <td>1.4</td>\n",
              "      <td>1.74</td>\n",
              "      <td>Dropout</td>\n",
              "    </tr>\n",
              "    <tr>\n",
              "      <th>3</th>\n",
              "      <td>1</td>\n",
              "      <td>17</td>\n",
              "      <td>2</td>\n",
              "      <td>9773</td>\n",
              "      <td>1</td>\n",
              "      <td>1</td>\n",
              "      <td>122.0</td>\n",
              "      <td>1</td>\n",
              "      <td>38</td>\n",
              "      <td>37</td>\n",
              "      <td>...</td>\n",
              "      <td>0</td>\n",
              "      <td>6</td>\n",
              "      <td>10</td>\n",
              "      <td>5</td>\n",
              "      <td>12.400000</td>\n",
              "      <td>0</td>\n",
              "      <td>9.4</td>\n",
              "      <td>-0.8</td>\n",
              "      <td>-3.12</td>\n",
              "      <td>Graduate</td>\n",
              "    </tr>\n",
              "    <tr>\n",
              "      <th>4</th>\n",
              "      <td>2</td>\n",
              "      <td>39</td>\n",
              "      <td>1</td>\n",
              "      <td>8014</td>\n",
              "      <td>0</td>\n",
              "      <td>1</td>\n",
              "      <td>100.0</td>\n",
              "      <td>1</td>\n",
              "      <td>37</td>\n",
              "      <td>38</td>\n",
              "      <td>...</td>\n",
              "      <td>0</td>\n",
              "      <td>6</td>\n",
              "      <td>6</td>\n",
              "      <td>6</td>\n",
              "      <td>13.000000</td>\n",
              "      <td>0</td>\n",
              "      <td>13.9</td>\n",
              "      <td>-0.3</td>\n",
              "      <td>0.79</td>\n",
              "      <td>Graduate</td>\n",
              "    </tr>\n",
              "  </tbody>\n",
              "</table>\n",
              "<p>5 rows × 37 columns</p>\n",
              "</div>\n",
              "      <button class=\"colab-df-convert\" onclick=\"convertToInteractive('df-3d83a675-cd8b-4fc4-b89a-0f364201b758')\"\n",
              "              title=\"Convert this dataframe to an interactive table.\"\n",
              "              style=\"display:none;\">\n",
              "        \n",
              "  <svg xmlns=\"http://www.w3.org/2000/svg\" height=\"24px\"viewBox=\"0 0 24 24\"\n",
              "       width=\"24px\">\n",
              "    <path d=\"M0 0h24v24H0V0z\" fill=\"none\"/>\n",
              "    <path d=\"M18.56 5.44l.94 2.06.94-2.06 2.06-.94-2.06-.94-.94-2.06-.94 2.06-2.06.94zm-11 1L8.5 8.5l.94-2.06 2.06-.94-2.06-.94L8.5 2.5l-.94 2.06-2.06.94zm10 10l.94 2.06.94-2.06 2.06-.94-2.06-.94-.94-2.06-.94 2.06-2.06.94z\"/><path d=\"M17.41 7.96l-1.37-1.37c-.4-.4-.92-.59-1.43-.59-.52 0-1.04.2-1.43.59L10.3 9.45l-7.72 7.72c-.78.78-.78 2.05 0 2.83L4 21.41c.39.39.9.59 1.41.59.51 0 1.02-.2 1.41-.59l7.78-7.78 2.81-2.81c.8-.78.8-2.07 0-2.86zM5.41 20L4 18.59l7.72-7.72 1.47 1.35L5.41 20z\"/>\n",
              "  </svg>\n",
              "      </button>\n",
              "      \n",
              "  <style>\n",
              "    .colab-df-container {\n",
              "      display:flex;\n",
              "      flex-wrap:wrap;\n",
              "      gap: 12px;\n",
              "    }\n",
              "\n",
              "    .colab-df-convert {\n",
              "      background-color: #E8F0FE;\n",
              "      border: none;\n",
              "      border-radius: 50%;\n",
              "      cursor: pointer;\n",
              "      display: none;\n",
              "      fill: #1967D2;\n",
              "      height: 32px;\n",
              "      padding: 0 0 0 0;\n",
              "      width: 32px;\n",
              "    }\n",
              "\n",
              "    .colab-df-convert:hover {\n",
              "      background-color: #E2EBFA;\n",
              "      box-shadow: 0px 1px 2px rgba(60, 64, 67, 0.3), 0px 1px 3px 1px rgba(60, 64, 67, 0.15);\n",
              "      fill: #174EA6;\n",
              "    }\n",
              "\n",
              "    [theme=dark] .colab-df-convert {\n",
              "      background-color: #3B4455;\n",
              "      fill: #D2E3FC;\n",
              "    }\n",
              "\n",
              "    [theme=dark] .colab-df-convert:hover {\n",
              "      background-color: #434B5C;\n",
              "      box-shadow: 0px 1px 3px 1px rgba(0, 0, 0, 0.15);\n",
              "      filter: drop-shadow(0px 1px 2px rgba(0, 0, 0, 0.3));\n",
              "      fill: #FFFFFF;\n",
              "    }\n",
              "  </style>\n",
              "\n",
              "      <script>\n",
              "        const buttonEl =\n",
              "          document.querySelector('#df-3d83a675-cd8b-4fc4-b89a-0f364201b758 button.colab-df-convert');\n",
              "        buttonEl.style.display =\n",
              "          google.colab.kernel.accessAllowed ? 'block' : 'none';\n",
              "\n",
              "        async function convertToInteractive(key) {\n",
              "          const element = document.querySelector('#df-3d83a675-cd8b-4fc4-b89a-0f364201b758');\n",
              "          const dataTable =\n",
              "            await google.colab.kernel.invokeFunction('convertToInteractive',\n",
              "                                                     [key], {});\n",
              "          if (!dataTable) return;\n",
              "\n",
              "          const docLinkHtml = 'Like what you see? Visit the ' +\n",
              "            '<a target=\"_blank\" href=https://colab.research.google.com/notebooks/data_table.ipynb>data table notebook</a>'\n",
              "            + ' to learn more about interactive tables.';\n",
              "          element.innerHTML = '';\n",
              "          dataTable['output_type'] = 'display_data';\n",
              "          await google.colab.output.renderOutput(dataTable, element);\n",
              "          const docLink = document.createElement('div');\n",
              "          docLink.innerHTML = docLinkHtml;\n",
              "          element.appendChild(docLink);\n",
              "        }\n",
              "      </script>\n",
              "    </div>\n",
              "  </div>\n",
              "  "
            ]
          },
          "metadata": {},
          "execution_count": 10
        }
      ],
      "source": [
        "df = df.drop(df[df['Target']=='Enrolled'].index)\n",
        "df.head()"
      ]
    },
    {
      "cell_type": "markdown",
      "source": [
        "Cek proporsi target"
      ],
      "metadata": {
        "id": "H73Z4QO0hxvZ"
      },
      "id": "H73Z4QO0hxvZ"
    },
    {
      "cell_type": "code",
      "execution_count": null,
      "id": "c62764a0-58d3-41b2-9b67-14df4a07ac52",
      "metadata": {
        "colab": {
          "base_uri": "https://localhost:8080/"
        },
        "id": "c62764a0-58d3-41b2-9b67-14df4a07ac52",
        "outputId": "51f6abd2-6541-475f-f616-ff0cbbd4f4fb"
      },
      "outputs": [
        {
          "output_type": "execute_result",
          "data": {
            "text/plain": [
              "Graduate    2209\n",
              "Dropout     1421\n",
              "Name: Target, dtype: int64"
            ]
          },
          "metadata": {},
          "execution_count": 11
        }
      ],
      "source": [
        "df['Target'].value_counts()"
      ]
    },
    {
      "cell_type": "markdown",
      "source": [
        "Bisa dilihat diatas terdapat total data Graduate sebanyak 2209, dan Droupout sebanyak 1421"
      ],
      "metadata": {
        "id": "LHz09i4Ohz26"
      },
      "id": "LHz09i4Ohz26"
    },
    {
      "cell_type": "markdown",
      "source": [
        "> Kelompokkan data numerical dan categoricalnya."
      ],
      "metadata": {
        "id": "ka3Mxj3vTfjm"
      },
      "id": "ka3Mxj3vTfjm"
    },
    {
      "cell_type": "code",
      "execution_count": null,
      "id": "64561b91-0197-4c7f-ad47-f91a756e4a08",
      "metadata": {
        "id": "64561b91-0197-4c7f-ad47-f91a756e4a08"
      },
      "outputs": [],
      "source": [
        "df_cat = df.select_dtypes(['object']) #kategorik\n",
        "df_num = df.drop(columns = df_cat.columns) #numerik"
      ]
    },
    {
      "cell_type": "markdown",
      "source": [
        "tampilkan 5 data teratas untuk df_cat"
      ],
      "metadata": {
        "id": "K0RulQCMh_mq"
      },
      "id": "K0RulQCMh_mq"
    },
    {
      "cell_type": "code",
      "execution_count": null,
      "id": "66a969c6-cde0-4ea0-bee9-1ef77b364ccd",
      "metadata": {
        "colab": {
          "base_uri": "https://localhost:8080/",
          "height": 206
        },
        "id": "66a969c6-cde0-4ea0-bee9-1ef77b364ccd",
        "outputId": "2ffcf414-6383-4f13-ec86-19c92ab531bb"
      },
      "outputs": [
        {
          "output_type": "execute_result",
          "data": {
            "text/plain": [
              "     Target\n",
              "0   Dropout\n",
              "1  Graduate\n",
              "2   Dropout\n",
              "3  Graduate\n",
              "4  Graduate"
            ],
            "text/html": [
              "\n",
              "  <div id=\"df-c25107ca-56ef-4ade-a5b3-4ae7d1615f08\">\n",
              "    <div class=\"colab-df-container\">\n",
              "      <div>\n",
              "<style scoped>\n",
              "    .dataframe tbody tr th:only-of-type {\n",
              "        vertical-align: middle;\n",
              "    }\n",
              "\n",
              "    .dataframe tbody tr th {\n",
              "        vertical-align: top;\n",
              "    }\n",
              "\n",
              "    .dataframe thead th {\n",
              "        text-align: right;\n",
              "    }\n",
              "</style>\n",
              "<table border=\"1\" class=\"dataframe\">\n",
              "  <thead>\n",
              "    <tr style=\"text-align: right;\">\n",
              "      <th></th>\n",
              "      <th>Target</th>\n",
              "    </tr>\n",
              "  </thead>\n",
              "  <tbody>\n",
              "    <tr>\n",
              "      <th>0</th>\n",
              "      <td>Dropout</td>\n",
              "    </tr>\n",
              "    <tr>\n",
              "      <th>1</th>\n",
              "      <td>Graduate</td>\n",
              "    </tr>\n",
              "    <tr>\n",
              "      <th>2</th>\n",
              "      <td>Dropout</td>\n",
              "    </tr>\n",
              "    <tr>\n",
              "      <th>3</th>\n",
              "      <td>Graduate</td>\n",
              "    </tr>\n",
              "    <tr>\n",
              "      <th>4</th>\n",
              "      <td>Graduate</td>\n",
              "    </tr>\n",
              "  </tbody>\n",
              "</table>\n",
              "</div>\n",
              "      <button class=\"colab-df-convert\" onclick=\"convertToInteractive('df-c25107ca-56ef-4ade-a5b3-4ae7d1615f08')\"\n",
              "              title=\"Convert this dataframe to an interactive table.\"\n",
              "              style=\"display:none;\">\n",
              "        \n",
              "  <svg xmlns=\"http://www.w3.org/2000/svg\" height=\"24px\"viewBox=\"0 0 24 24\"\n",
              "       width=\"24px\">\n",
              "    <path d=\"M0 0h24v24H0V0z\" fill=\"none\"/>\n",
              "    <path d=\"M18.56 5.44l.94 2.06.94-2.06 2.06-.94-2.06-.94-.94-2.06-.94 2.06-2.06.94zm-11 1L8.5 8.5l.94-2.06 2.06-.94-2.06-.94L8.5 2.5l-.94 2.06-2.06.94zm10 10l.94 2.06.94-2.06 2.06-.94-2.06-.94-.94-2.06-.94 2.06-2.06.94z\"/><path d=\"M17.41 7.96l-1.37-1.37c-.4-.4-.92-.59-1.43-.59-.52 0-1.04.2-1.43.59L10.3 9.45l-7.72 7.72c-.78.78-.78 2.05 0 2.83L4 21.41c.39.39.9.59 1.41.59.51 0 1.02-.2 1.41-.59l7.78-7.78 2.81-2.81c.8-.78.8-2.07 0-2.86zM5.41 20L4 18.59l7.72-7.72 1.47 1.35L5.41 20z\"/>\n",
              "  </svg>\n",
              "      </button>\n",
              "      \n",
              "  <style>\n",
              "    .colab-df-container {\n",
              "      display:flex;\n",
              "      flex-wrap:wrap;\n",
              "      gap: 12px;\n",
              "    }\n",
              "\n",
              "    .colab-df-convert {\n",
              "      background-color: #E8F0FE;\n",
              "      border: none;\n",
              "      border-radius: 50%;\n",
              "      cursor: pointer;\n",
              "      display: none;\n",
              "      fill: #1967D2;\n",
              "      height: 32px;\n",
              "      padding: 0 0 0 0;\n",
              "      width: 32px;\n",
              "    }\n",
              "\n",
              "    .colab-df-convert:hover {\n",
              "      background-color: #E2EBFA;\n",
              "      box-shadow: 0px 1px 2px rgba(60, 64, 67, 0.3), 0px 1px 3px 1px rgba(60, 64, 67, 0.15);\n",
              "      fill: #174EA6;\n",
              "    }\n",
              "\n",
              "    [theme=dark] .colab-df-convert {\n",
              "      background-color: #3B4455;\n",
              "      fill: #D2E3FC;\n",
              "    }\n",
              "\n",
              "    [theme=dark] .colab-df-convert:hover {\n",
              "      background-color: #434B5C;\n",
              "      box-shadow: 0px 1px 3px 1px rgba(0, 0, 0, 0.15);\n",
              "      filter: drop-shadow(0px 1px 2px rgba(0, 0, 0, 0.3));\n",
              "      fill: #FFFFFF;\n",
              "    }\n",
              "  </style>\n",
              "\n",
              "      <script>\n",
              "        const buttonEl =\n",
              "          document.querySelector('#df-c25107ca-56ef-4ade-a5b3-4ae7d1615f08 button.colab-df-convert');\n",
              "        buttonEl.style.display =\n",
              "          google.colab.kernel.accessAllowed ? 'block' : 'none';\n",
              "\n",
              "        async function convertToInteractive(key) {\n",
              "          const element = document.querySelector('#df-c25107ca-56ef-4ade-a5b3-4ae7d1615f08');\n",
              "          const dataTable =\n",
              "            await google.colab.kernel.invokeFunction('convertToInteractive',\n",
              "                                                     [key], {});\n",
              "          if (!dataTable) return;\n",
              "\n",
              "          const docLinkHtml = 'Like what you see? Visit the ' +\n",
              "            '<a target=\"_blank\" href=https://colab.research.google.com/notebooks/data_table.ipynb>data table notebook</a>'\n",
              "            + ' to learn more about interactive tables.';\n",
              "          element.innerHTML = '';\n",
              "          dataTable['output_type'] = 'display_data';\n",
              "          await google.colab.output.renderOutput(dataTable, element);\n",
              "          const docLink = document.createElement('div');\n",
              "          docLink.innerHTML = docLinkHtml;\n",
              "          element.appendChild(docLink);\n",
              "        }\n",
              "      </script>\n",
              "    </div>\n",
              "  </div>\n",
              "  "
            ]
          },
          "metadata": {},
          "execution_count": 13
        }
      ],
      "source": [
        "df_cat.head()"
      ]
    },
    {
      "cell_type": "markdown",
      "source": [
        "tampilkan 5 data teratas untuk df_num"
      ],
      "metadata": {
        "id": "JaGlcEAYiBNQ"
      },
      "id": "JaGlcEAYiBNQ"
    },
    {
      "cell_type": "code",
      "execution_count": null,
      "id": "4b5be32e-4b39-43d8-84e2-d8d8b9f41473",
      "metadata": {
        "tags": [],
        "colab": {
          "base_uri": "https://localhost:8080/",
          "height": 351
        },
        "id": "4b5be32e-4b39-43d8-84e2-d8d8b9f41473",
        "outputId": "b623893c-1d99-4471-97f2-cc5a80d1a147"
      },
      "outputs": [
        {
          "output_type": "execute_result",
          "data": {
            "text/plain": [
              "   Marital status  Application mode  Application order  Course  \\\n",
              "0               1                17                  5     171   \n",
              "1               1                15                  1    9254   \n",
              "2               1                 1                  5    9070   \n",
              "3               1                17                  2    9773   \n",
              "4               2                39                  1    8014   \n",
              "\n",
              "   Daytime/evening attendance\\t  Previous qualification  \\\n",
              "0                             1                       1   \n",
              "1                             1                       1   \n",
              "2                             1                       1   \n",
              "3                             1                       1   \n",
              "4                             0                       1   \n",
              "\n",
              "   Previous qualification (grade)  Nationality  Mother's qualification  \\\n",
              "0                           122.0            1                      19   \n",
              "1                           160.0            1                       1   \n",
              "2                           122.0            1                      37   \n",
              "3                           122.0            1                      38   \n",
              "4                           100.0            1                      37   \n",
              "\n",
              "   Father's qualification  ...  \\\n",
              "0                      12  ...   \n",
              "1                       3  ...   \n",
              "2                      37  ...   \n",
              "3                      37  ...   \n",
              "4                      38  ...   \n",
              "\n",
              "   Curricular units 1st sem (without evaluations)  \\\n",
              "0                                               0   \n",
              "1                                               0   \n",
              "2                                               0   \n",
              "3                                               0   \n",
              "4                                               0   \n",
              "\n",
              "   Curricular units 2nd sem (credited)  Curricular units 2nd sem (enrolled)  \\\n",
              "0                                    0                                    0   \n",
              "1                                    0                                    6   \n",
              "2                                    0                                    6   \n",
              "3                                    0                                    6   \n",
              "4                                    0                                    6   \n",
              "\n",
              "   Curricular units 2nd sem (evaluations)  \\\n",
              "0                                       0   \n",
              "1                                       6   \n",
              "2                                       0   \n",
              "3                                      10   \n",
              "4                                       6   \n",
              "\n",
              "   Curricular units 2nd sem (approved)  Curricular units 2nd sem (grade)  \\\n",
              "0                                    0                          0.000000   \n",
              "1                                    6                         13.666667   \n",
              "2                                    0                          0.000000   \n",
              "3                                    5                         12.400000   \n",
              "4                                    6                         13.000000   \n",
              "\n",
              "   Curricular units 2nd sem (without evaluations)  Unemployment rate  \\\n",
              "0                                               0               10.8   \n",
              "1                                               0               13.9   \n",
              "2                                               0               10.8   \n",
              "3                                               0                9.4   \n",
              "4                                               0               13.9   \n",
              "\n",
              "   Inflation rate   GDP  \n",
              "0             1.4  1.74  \n",
              "1            -0.3  0.79  \n",
              "2             1.4  1.74  \n",
              "3            -0.8 -3.12  \n",
              "4            -0.3  0.79  \n",
              "\n",
              "[5 rows x 36 columns]"
            ],
            "text/html": [
              "\n",
              "  <div id=\"df-6751abf7-dd30-4eb9-a346-e09933eefca6\">\n",
              "    <div class=\"colab-df-container\">\n",
              "      <div>\n",
              "<style scoped>\n",
              "    .dataframe tbody tr th:only-of-type {\n",
              "        vertical-align: middle;\n",
              "    }\n",
              "\n",
              "    .dataframe tbody tr th {\n",
              "        vertical-align: top;\n",
              "    }\n",
              "\n",
              "    .dataframe thead th {\n",
              "        text-align: right;\n",
              "    }\n",
              "</style>\n",
              "<table border=\"1\" class=\"dataframe\">\n",
              "  <thead>\n",
              "    <tr style=\"text-align: right;\">\n",
              "      <th></th>\n",
              "      <th>Marital status</th>\n",
              "      <th>Application mode</th>\n",
              "      <th>Application order</th>\n",
              "      <th>Course</th>\n",
              "      <th>Daytime/evening attendance\\t</th>\n",
              "      <th>Previous qualification</th>\n",
              "      <th>Previous qualification (grade)</th>\n",
              "      <th>Nationality</th>\n",
              "      <th>Mother's qualification</th>\n",
              "      <th>Father's qualification</th>\n",
              "      <th>...</th>\n",
              "      <th>Curricular units 1st sem (without evaluations)</th>\n",
              "      <th>Curricular units 2nd sem (credited)</th>\n",
              "      <th>Curricular units 2nd sem (enrolled)</th>\n",
              "      <th>Curricular units 2nd sem (evaluations)</th>\n",
              "      <th>Curricular units 2nd sem (approved)</th>\n",
              "      <th>Curricular units 2nd sem (grade)</th>\n",
              "      <th>Curricular units 2nd sem (without evaluations)</th>\n",
              "      <th>Unemployment rate</th>\n",
              "      <th>Inflation rate</th>\n",
              "      <th>GDP</th>\n",
              "    </tr>\n",
              "  </thead>\n",
              "  <tbody>\n",
              "    <tr>\n",
              "      <th>0</th>\n",
              "      <td>1</td>\n",
              "      <td>17</td>\n",
              "      <td>5</td>\n",
              "      <td>171</td>\n",
              "      <td>1</td>\n",
              "      <td>1</td>\n",
              "      <td>122.0</td>\n",
              "      <td>1</td>\n",
              "      <td>19</td>\n",
              "      <td>12</td>\n",
              "      <td>...</td>\n",
              "      <td>0</td>\n",
              "      <td>0</td>\n",
              "      <td>0</td>\n",
              "      <td>0</td>\n",
              "      <td>0</td>\n",
              "      <td>0.000000</td>\n",
              "      <td>0</td>\n",
              "      <td>10.8</td>\n",
              "      <td>1.4</td>\n",
              "      <td>1.74</td>\n",
              "    </tr>\n",
              "    <tr>\n",
              "      <th>1</th>\n",
              "      <td>1</td>\n",
              "      <td>15</td>\n",
              "      <td>1</td>\n",
              "      <td>9254</td>\n",
              "      <td>1</td>\n",
              "      <td>1</td>\n",
              "      <td>160.0</td>\n",
              "      <td>1</td>\n",
              "      <td>1</td>\n",
              "      <td>3</td>\n",
              "      <td>...</td>\n",
              "      <td>0</td>\n",
              "      <td>0</td>\n",
              "      <td>6</td>\n",
              "      <td>6</td>\n",
              "      <td>6</td>\n",
              "      <td>13.666667</td>\n",
              "      <td>0</td>\n",
              "      <td>13.9</td>\n",
              "      <td>-0.3</td>\n",
              "      <td>0.79</td>\n",
              "    </tr>\n",
              "    <tr>\n",
              "      <th>2</th>\n",
              "      <td>1</td>\n",
              "      <td>1</td>\n",
              "      <td>5</td>\n",
              "      <td>9070</td>\n",
              "      <td>1</td>\n",
              "      <td>1</td>\n",
              "      <td>122.0</td>\n",
              "      <td>1</td>\n",
              "      <td>37</td>\n",
              "      <td>37</td>\n",
              "      <td>...</td>\n",
              "      <td>0</td>\n",
              "      <td>0</td>\n",
              "      <td>6</td>\n",
              "      <td>0</td>\n",
              "      <td>0</td>\n",
              "      <td>0.000000</td>\n",
              "      <td>0</td>\n",
              "      <td>10.8</td>\n",
              "      <td>1.4</td>\n",
              "      <td>1.74</td>\n",
              "    </tr>\n",
              "    <tr>\n",
              "      <th>3</th>\n",
              "      <td>1</td>\n",
              "      <td>17</td>\n",
              "      <td>2</td>\n",
              "      <td>9773</td>\n",
              "      <td>1</td>\n",
              "      <td>1</td>\n",
              "      <td>122.0</td>\n",
              "      <td>1</td>\n",
              "      <td>38</td>\n",
              "      <td>37</td>\n",
              "      <td>...</td>\n",
              "      <td>0</td>\n",
              "      <td>0</td>\n",
              "      <td>6</td>\n",
              "      <td>10</td>\n",
              "      <td>5</td>\n",
              "      <td>12.400000</td>\n",
              "      <td>0</td>\n",
              "      <td>9.4</td>\n",
              "      <td>-0.8</td>\n",
              "      <td>-3.12</td>\n",
              "    </tr>\n",
              "    <tr>\n",
              "      <th>4</th>\n",
              "      <td>2</td>\n",
              "      <td>39</td>\n",
              "      <td>1</td>\n",
              "      <td>8014</td>\n",
              "      <td>0</td>\n",
              "      <td>1</td>\n",
              "      <td>100.0</td>\n",
              "      <td>1</td>\n",
              "      <td>37</td>\n",
              "      <td>38</td>\n",
              "      <td>...</td>\n",
              "      <td>0</td>\n",
              "      <td>0</td>\n",
              "      <td>6</td>\n",
              "      <td>6</td>\n",
              "      <td>6</td>\n",
              "      <td>13.000000</td>\n",
              "      <td>0</td>\n",
              "      <td>13.9</td>\n",
              "      <td>-0.3</td>\n",
              "      <td>0.79</td>\n",
              "    </tr>\n",
              "  </tbody>\n",
              "</table>\n",
              "<p>5 rows × 36 columns</p>\n",
              "</div>\n",
              "      <button class=\"colab-df-convert\" onclick=\"convertToInteractive('df-6751abf7-dd30-4eb9-a346-e09933eefca6')\"\n",
              "              title=\"Convert this dataframe to an interactive table.\"\n",
              "              style=\"display:none;\">\n",
              "        \n",
              "  <svg xmlns=\"http://www.w3.org/2000/svg\" height=\"24px\"viewBox=\"0 0 24 24\"\n",
              "       width=\"24px\">\n",
              "    <path d=\"M0 0h24v24H0V0z\" fill=\"none\"/>\n",
              "    <path d=\"M18.56 5.44l.94 2.06.94-2.06 2.06-.94-2.06-.94-.94-2.06-.94 2.06-2.06.94zm-11 1L8.5 8.5l.94-2.06 2.06-.94-2.06-.94L8.5 2.5l-.94 2.06-2.06.94zm10 10l.94 2.06.94-2.06 2.06-.94-2.06-.94-.94-2.06-.94 2.06-2.06.94z\"/><path d=\"M17.41 7.96l-1.37-1.37c-.4-.4-.92-.59-1.43-.59-.52 0-1.04.2-1.43.59L10.3 9.45l-7.72 7.72c-.78.78-.78 2.05 0 2.83L4 21.41c.39.39.9.59 1.41.59.51 0 1.02-.2 1.41-.59l7.78-7.78 2.81-2.81c.8-.78.8-2.07 0-2.86zM5.41 20L4 18.59l7.72-7.72 1.47 1.35L5.41 20z\"/>\n",
              "  </svg>\n",
              "      </button>\n",
              "      \n",
              "  <style>\n",
              "    .colab-df-container {\n",
              "      display:flex;\n",
              "      flex-wrap:wrap;\n",
              "      gap: 12px;\n",
              "    }\n",
              "\n",
              "    .colab-df-convert {\n",
              "      background-color: #E8F0FE;\n",
              "      border: none;\n",
              "      border-radius: 50%;\n",
              "      cursor: pointer;\n",
              "      display: none;\n",
              "      fill: #1967D2;\n",
              "      height: 32px;\n",
              "      padding: 0 0 0 0;\n",
              "      width: 32px;\n",
              "    }\n",
              "\n",
              "    .colab-df-convert:hover {\n",
              "      background-color: #E2EBFA;\n",
              "      box-shadow: 0px 1px 2px rgba(60, 64, 67, 0.3), 0px 1px 3px 1px rgba(60, 64, 67, 0.15);\n",
              "      fill: #174EA6;\n",
              "    }\n",
              "\n",
              "    [theme=dark] .colab-df-convert {\n",
              "      background-color: #3B4455;\n",
              "      fill: #D2E3FC;\n",
              "    }\n",
              "\n",
              "    [theme=dark] .colab-df-convert:hover {\n",
              "      background-color: #434B5C;\n",
              "      box-shadow: 0px 1px 3px 1px rgba(0, 0, 0, 0.15);\n",
              "      filter: drop-shadow(0px 1px 2px rgba(0, 0, 0, 0.3));\n",
              "      fill: #FFFFFF;\n",
              "    }\n",
              "  </style>\n",
              "\n",
              "      <script>\n",
              "        const buttonEl =\n",
              "          document.querySelector('#df-6751abf7-dd30-4eb9-a346-e09933eefca6 button.colab-df-convert');\n",
              "        buttonEl.style.display =\n",
              "          google.colab.kernel.accessAllowed ? 'block' : 'none';\n",
              "\n",
              "        async function convertToInteractive(key) {\n",
              "          const element = document.querySelector('#df-6751abf7-dd30-4eb9-a346-e09933eefca6');\n",
              "          const dataTable =\n",
              "            await google.colab.kernel.invokeFunction('convertToInteractive',\n",
              "                                                     [key], {});\n",
              "          if (!dataTable) return;\n",
              "\n",
              "          const docLinkHtml = 'Like what you see? Visit the ' +\n",
              "            '<a target=\"_blank\" href=https://colab.research.google.com/notebooks/data_table.ipynb>data table notebook</a>'\n",
              "            + ' to learn more about interactive tables.';\n",
              "          element.innerHTML = '';\n",
              "          dataTable['output_type'] = 'display_data';\n",
              "          await google.colab.output.renderOutput(dataTable, element);\n",
              "          const docLink = document.createElement('div');\n",
              "          docLink.innerHTML = docLinkHtml;\n",
              "          element.appendChild(docLink);\n",
              "        }\n",
              "      </script>\n",
              "    </div>\n",
              "  </div>\n",
              "  "
            ]
          },
          "metadata": {},
          "execution_count": 14
        }
      ],
      "source": [
        "df_num.head()"
      ]
    },
    {
      "cell_type": "markdown",
      "id": "5665fb24-be18-442c-817c-2924327fc8cc",
      "metadata": {
        "id": "5665fb24-be18-442c-817c-2924327fc8cc"
      },
      "source": [
        "### DETECTING & HANDLING OUTLIERS"
      ]
    },
    {
      "cell_type": "markdown",
      "id": "c2c5ac2b-3355-488b-9acd-a17f24052d25",
      "metadata": {
        "id": "c2c5ac2b-3355-488b-9acd-a17f24052d25"
      },
      "source": [
        "> Kita cek outliersnya"
      ]
    },
    {
      "cell_type": "markdown",
      "source": [
        "Tampilkan kolom kolomnya"
      ],
      "metadata": {
        "id": "p5RHcI8XiKx6"
      },
      "id": "p5RHcI8XiKx6"
    },
    {
      "cell_type": "code",
      "execution_count": null,
      "id": "754e64b4-8568-4d78-9f09-eac7f53ffac0",
      "metadata": {
        "colab": {
          "base_uri": "https://localhost:8080/"
        },
        "id": "754e64b4-8568-4d78-9f09-eac7f53ffac0",
        "outputId": "24fdfb0f-cf2c-47c1-be93-f0dac9fac7e7"
      },
      "outputs": [
        {
          "output_type": "execute_result",
          "data": {
            "text/plain": [
              "Index(['Marital status', 'Application mode', 'Application order', 'Course',\n",
              "       'Daytime/evening attendance\\t', 'Previous qualification',\n",
              "       'Previous qualification (grade)', 'Nationality',\n",
              "       'Mother's qualification', 'Father's qualification',\n",
              "       'Mother's occupation', 'Father's occupation', 'Admission grade',\n",
              "       'Displaced', 'Educational special needs', 'Debtor',\n",
              "       'Tuition fees up to date', 'Gender', 'Scholarship holder',\n",
              "       'Age at enrollment', 'International',\n",
              "       'Curricular units 1st sem (credited)',\n",
              "       'Curricular units 1st sem (enrolled)',\n",
              "       'Curricular units 1st sem (evaluations)',\n",
              "       'Curricular units 1st sem (approved)',\n",
              "       'Curricular units 1st sem (grade)',\n",
              "       'Curricular units 1st sem (without evaluations)',\n",
              "       'Curricular units 2nd sem (credited)',\n",
              "       'Curricular units 2nd sem (enrolled)',\n",
              "       'Curricular units 2nd sem (evaluations)',\n",
              "       'Curricular units 2nd sem (approved)',\n",
              "       'Curricular units 2nd sem (grade)',\n",
              "       'Curricular units 2nd sem (without evaluations)', 'Unemployment rate',\n",
              "       'Inflation rate', 'GDP', 'Target'],\n",
              "      dtype='object')"
            ]
          },
          "metadata": {},
          "execution_count": 15
        }
      ],
      "source": [
        "df.columns"
      ]
    },
    {
      "cell_type": "markdown",
      "id": "336d625e-0af7-4fc9-aa93-fc5683bc5fbd",
      "metadata": {
        "id": "336d625e-0af7-4fc9-aa93-fc5683bc5fbd"
      },
      "source": [
        "> Kita akan cek outlier pada nilai kontinu saja."
      ]
    },
    {
      "cell_type": "code",
      "execution_count": null,
      "id": "20d0a5bc-d141-4160-8de4-c891b963185d",
      "metadata": {
        "colab": {
          "base_uri": "https://localhost:8080/",
          "height": 1000
        },
        "id": "20d0a5bc-d141-4160-8de4-c891b963185d",
        "outputId": "6b753ea3-ef3c-43b4-fd0a-589888c847dc"
      },
      "outputs": [
        {
          "output_type": "display_data",
          "data": {
            "text/plain": [
              "<Figure size 640x480 with 1 Axes>"
            ],
            "image/png": "[encoded data removed]"
          },
          "metadata": {}
        },
        {
          "output_type": "display_data",
          "data": {
            "text/plain": [
              "<Figure size 640x480 with 1 Axes>"
            ],
            "image/png": "[encoded data removed]"
          },
          "metadata": {}
        },
        {
          "output_type": "display_data",
          "data": {
            "text/plain": [
              "<Figure size 640x480 with 1 Axes>"
            ],
            "image/png": "[encoded data removed]"
          },
          "metadata": {}
        },
        {
          "output_type": "display_data",
          "data": {
            "text/plain": [
              "<Figure size 640x480 with 1 Axes>"
            ],
            "image/png": "[encoded data removed]"
          },
          "metadata": {}
        },
        {
          "output_type": "display_data",
          "data": {
            "text/plain": [
              "<Figure size 640x480 with 1 Axes>"
            ],
            "image/png": "[encoded data removed]"
          },
          "metadata": {}
        },
        {
          "output_type": "display_data",
          "data": {
            "text/plain": [
              "<Figure size 640x480 with 1 Axes>"
            ],
            "image/png": "[encoded data removed]"
          },
          "metadata": {}
        },
        {
          "output_type": "display_data",
          "data": {
            "text/plain": [
              "<Figure size 640x480 with 1 Axes>"
            ],
            "image/png": "[encoded data removed]"
          },
          "metadata": {}
        },
        {
          "output_type": "display_data",
          "data": {
            "text/plain": [
              "<Figure size 640x480 with 1 Axes>"
            ],
            "image/png": "[encoded data removed]"
          },
          "metadata": {}
        },
        {
          "output_type": "display_data",
          "data": {
            "text/plain": [
              "<Figure size 640x480 with 1 Axes>"
            ],
            "image/png": "[encoded data removed]"
          },
          "metadata": {}
        },
        {
          "output_type": "display_data",
          "data": {
            "text/plain": [
              "<Figure size 640x480 with 1 Axes>"
            ],
            "image/png": "[encoded data removed]"
          },
          "metadata": {}
        }
      ],
      "source": [
        "for i in df[[\"Previous qualification (grade)\", \"Admission grade\", \"Unemployment rate\", \"Inflation rate\", \"GDP\"]]:\n",
        "    plt.title(i)\n",
        "    sns.boxplot(df_num[i])\n",
        "    plt.show()\n",
        "    sns.distplot(df_num[i])\n",
        "    plt.show()"
      ]
    },
    {
      "cell_type": "markdown",
      "id": "e5be023a-2e0e-4c98-84c0-f1a41b57ed8a",
      "metadata": {
        "id": "e5be023a-2e0e-4c98-84c0-f1a41b57ed8a"
      },
      "source": [
        "> Data terlihat masih aman, tidak terdistribusi dengan normal, dan tidak terlihat adanya outliers / nilai extreme."
      ]
    },
    {
      "cell_type": "markdown",
      "id": "f7c53601-977a-4d9b-8652-5553ae6c8142",
      "metadata": {
        "id": "f7c53601-977a-4d9b-8652-5553ae6c8142"
      },
      "source": [
        "## Feature Engineering"
      ]
    },
    {
      "cell_type": "markdown",
      "id": "5845fd11-5314-4133-af92-38ba0b3ea227",
      "metadata": {
        "id": "5845fd11-5314-4133-af92-38ba0b3ea227"
      },
      "source": [
        "### Feature Encoding"
      ]
    },
    {
      "cell_type": "markdown",
      "id": "29330d3f-ce27-4c11-b626-e5028a24a876",
      "metadata": {
        "id": "29330d3f-ce27-4c11-b626-e5028a24a876"
      },
      "source": [
        "> Kita akan encode targetnya menggunakan label encoder"
      ]
    },
    {
      "cell_type": "markdown",
      "source": [
        "Label_Encoder digunakan untuk variabel target"
      ],
      "metadata": {
        "id": "qNiILNK5is7p"
      },
      "id": "qNiILNK5is7p"
    },
    {
      "cell_type": "code",
      "execution_count": null,
      "id": "9c3115be-d738-495d-aaf0-074f38f457b5",
      "metadata": {
        "id": "9c3115be-d738-495d-aaf0-074f38f457b5"
      },
      "outputs": [],
      "source": [
        "label_encoder = LabelEncoder()"
      ]
    },
    {
      "cell_type": "code",
      "execution_count": null,
      "id": "b2694bb9-9be6-4a66-98f2-8458d7720cf9",
      "metadata": {
        "id": "b2694bb9-9be6-4a66-98f2-8458d7720cf9"
      },
      "outputs": [],
      "source": [
        "df_cat[\"Target\"] = label_encoder.fit_transform(df_cat[\"Target\"])"
      ]
    },
    {
      "cell_type": "code",
      "execution_count": null,
      "id": "2f61b13b-9bc1-459a-bce2-29f1ffa4615f",
      "metadata": {
        "colab": {
          "base_uri": "https://localhost:8080/",
          "height": 206
        },
        "id": "2f61b13b-9bc1-459a-bce2-29f1ffa4615f",
        "outputId": "6b8ef323-2dd5-4775-f3e9-c0aa987eb1b3"
      },
      "outputs": [
        {
          "output_type": "execute_result",
          "data": {
            "text/plain": [
              "   Target\n",
              "0       0\n",
              "1       1\n",
              "2       0\n",
              "3       1\n",
              "4       1"
            ],
            "text/html": [
              "\n",
              "  <div id=\"df-d7fca13b-464c-4878-a428-d6faced21049\">\n",
              "    <div class=\"colab-df-container\">\n",
              "      <div>\n",
              "<style scoped>\n",
              "    .dataframe tbody tr th:only-of-type {\n",
              "        vertical-align: middle;\n",
              "    }\n",
              "\n",
              "    .dataframe tbody tr th {\n",
              "        vertical-align: top;\n",
              "    }\n",
              "\n",
              "    .dataframe thead th {\n",
              "        text-align: right;\n",
              "    }\n",
              "</style>\n",
              "<table border=\"1\" class=\"dataframe\">\n",
              "  <thead>\n",
              "    <tr style=\"text-align: right;\">\n",
              "      <th></th>\n",
              "      <th>Target</th>\n",
              "    </tr>\n",
              "  </thead>\n",
              "  <tbody>\n",
              "    <tr>\n",
              "      <th>0</th>\n",
              "      <td>0</td>\n",
              "    </tr>\n",
              "    <tr>\n",
              "      <th>1</th>\n",
              "      <td>1</td>\n",
              "    </tr>\n",
              "    <tr>\n",
              "      <th>2</th>\n",
              "      <td>0</td>\n",
              "    </tr>\n",
              "    <tr>\n",
              "      <th>3</th>\n",
              "      <td>1</td>\n",
              "    </tr>\n",
              "    <tr>\n",
              "      <th>4</th>\n",
              "      <td>1</td>\n",
              "    </tr>\n",
              "  </tbody>\n",
              "</table>\n",
              "</div>\n",
              "      <button class=\"colab-df-convert\" onclick=\"convertToInteractive('df-d7fca13b-464c-4878-a428-d6faced21049')\"\n",
              "              title=\"Convert this dataframe to an interactive table.\"\n",
              "              style=\"display:none;\">\n",
              "        \n",
              "  <svg xmlns=\"http://www.w3.org/2000/svg\" height=\"24px\"viewBox=\"0 0 24 24\"\n",
              "       width=\"24px\">\n",
              "    <path d=\"M0 0h24v24H0V0z\" fill=\"none\"/>\n",
              "    <path d=\"M18.56 5.44l.94 2.06.94-2.06 2.06-.94-2.06-.94-.94-2.06-.94 2.06-2.06.94zm-11 1L8.5 8.5l.94-2.06 2.06-.94-2.06-.94L8.5 2.5l-.94 2.06-2.06.94zm10 10l.94 2.06.94-2.06 2.06-.94-2.06-.94-.94-2.06-.94 2.06-2.06.94z\"/><path d=\"M17.41 7.96l-1.37-1.37c-.4-.4-.92-.59-1.43-.59-.52 0-1.04.2-1.43.59L10.3 9.45l-7.72 7.72c-.78.78-.78 2.05 0 2.83L4 21.41c.39.39.9.59 1.41.59.51 0 1.02-.2 1.41-.59l7.78-7.78 2.81-2.81c.8-.78.8-2.07 0-2.86zM5.41 20L4 18.59l7.72-7.72 1.47 1.35L5.41 20z\"/>\n",
              "  </svg>\n",
              "      </button>\n",
              "      \n",
              "  <style>\n",
              "    .colab-df-container {\n",
              "      display:flex;\n",
              "      flex-wrap:wrap;\n",
              "      gap: 12px;\n",
              "    }\n",
              "\n",
              "    .colab-df-convert {\n",
              "      background-color: #E8F0FE;\n",
              "      border: none;\n",
              "      border-radius: 50%;\n",
              "      cursor: pointer;\n",
              "      display: none;\n",
              "      fill: #1967D2;\n",
              "      height: 32px;\n",
              "      padding: 0 0 0 0;\n",
              "      width: 32px;\n",
              "    }\n",
              "\n",
              "    .colab-df-convert:hover {\n",
              "      background-color: #E2EBFA;\n",
              "      box-shadow: 0px 1px 2px rgba(60, 64, 67, 0.3), 0px 1px 3px 1px rgba(60, 64, 67, 0.15);\n",
              "      fill: #174EA6;\n",
              "    }\n",
              "\n",
              "    [theme=dark] .colab-df-convert {\n",
              "      background-color: #3B4455;\n",
              "      fill: #D2E3FC;\n",
              "    }\n",
              "\n",
              "    [theme=dark] .colab-df-convert:hover {\n",
              "      background-color: #434B5C;\n",
              "      box-shadow: 0px 1px 3px 1px rgba(0, 0, 0, 0.15);\n",
              "      filter: drop-shadow(0px 1px 2px rgba(0, 0, 0, 0.3));\n",
              "      fill: #FFFFFF;\n",
              "    }\n",
              "  </style>\n",
              "\n",
              "      <script>\n",
              "        const buttonEl =\n",
              "          document.querySelector('#df-d7fca13b-464c-4878-a428-d6faced21049 button.colab-df-convert');\n",
              "        buttonEl.style.display =\n",
              "          google.colab.kernel.accessAllowed ? 'block' : 'none';\n",
              "\n",
              "        async function convertToInteractive(key) {\n",
              "          const element = document.querySelector('#df-d7fca13b-464c-4878-a428-d6faced21049');\n",
              "          const dataTable =\n",
              "            await google.colab.kernel.invokeFunction('convertToInteractive',\n",
              "                                                     [key], {});\n",
              "          if (!dataTable) return;\n",
              "\n",
              "          const docLinkHtml = 'Like what you see? Visit the ' +\n",
              "            '<a target=\"_blank\" href=https://colab.research.google.com/notebooks/data_table.ipynb>data table notebook</a>'\n",
              "            + ' to learn more about interactive tables.';\n",
              "          element.innerHTML = '';\n",
              "          dataTable['output_type'] = 'display_data';\n",
              "          await google.colab.output.renderOutput(dataTable, element);\n",
              "          const docLink = document.createElement('div');\n",
              "          docLink.innerHTML = docLinkHtml;\n",
              "          element.appendChild(docLink);\n",
              "        }\n",
              "      </script>\n",
              "    </div>\n",
              "  </div>\n",
              "  "
            ]
          },
          "metadata": {},
          "execution_count": 19
        }
      ],
      "source": [
        "df_cat.head()"
      ]
    },
    {
      "cell_type": "markdown",
      "source": [
        "Kita cek 0 dan 1 mengacu kemana"
      ],
      "metadata": {
        "id": "HgtBRgZ5i0z-"
      },
      "id": "HgtBRgZ5i0z-"
    },
    {
      "cell_type": "code",
      "execution_count": null,
      "id": "3c1ad971-09f6-4e5c-b9ac-c3fce9aee10e",
      "metadata": {
        "colab": {
          "base_uri": "https://localhost:8080/"
        },
        "id": "3c1ad971-09f6-4e5c-b9ac-c3fce9aee10e",
        "outputId": "473ceb4e-fe93-43a7-d437-696d997888e5"
      },
      "outputs": [
        {
          "output_type": "execute_result",
          "data": {
            "text/plain": [
              "['Dropout', 'Graduate']"
            ]
          },
          "metadata": {},
          "execution_count": 20
        }
      ],
      "source": [
        "list(label_encoder.classes_)"
      ]
    },
    {
      "cell_type": "markdown",
      "source": [
        "Bisa dilihat diatas, bahwa 0 = Dropout dan 1 = Graduate"
      ],
      "metadata": {
        "id": "d02Dv7MOi6aO"
      },
      "id": "d02Dv7MOi6aO"
    },
    {
      "cell_type": "markdown",
      "id": "29494140-137e-4cf4-9141-3973ce28c13c",
      "metadata": {
        "id": "29494140-137e-4cf4-9141-3973ce28c13c"
      },
      "source": [
        "### Feature Scaling"
      ]
    },
    {
      "cell_type": "markdown",
      "id": "3bbf9deb-acbd-43d7-9b32-f91979a56142",
      "metadata": {
        "id": "3bbf9deb-acbd-43d7-9b32-f91979a56142"
      },
      "source": [
        "> Disini kami akan melakukan scaling pada data kontinu\n",
        "> Data tidak terdistribusi normal & tidak terlihat adanya outliers. <br>\n",
        "> Karena data tidak terdistribusi dengan normal, maka kita mengggunakan MinMaxScaler()."
      ]
    },
    {
      "cell_type": "code",
      "execution_count": null,
      "id": "50a9e5bf-4b6b-4197-a85e-5536e719cb2e",
      "metadata": {
        "id": "50a9e5bf-4b6b-4197-a85e-5536e719cb2e"
      },
      "outputs": [],
      "source": [
        "# min max scaler\n",
        "scaler = MinMaxScaler()"
      ]
    },
    {
      "cell_type": "code",
      "execution_count": null,
      "id": "ccfeb2b5-122b-4b37-8121-dc2115f30035",
      "metadata": {
        "id": "ccfeb2b5-122b-4b37-8121-dc2115f30035"
      },
      "outputs": [],
      "source": [
        "column_name = [\"Previous qualification (grade)\", \"Admission grade\", \"Unemployment rate\", \"Inflation rate\", \"GDP\"]"
      ]
    },
    {
      "cell_type": "code",
      "execution_count": null,
      "id": "967d2d06-1924-4349-b33d-9b2734db09d3",
      "metadata": {
        "id": "967d2d06-1924-4349-b33d-9b2734db09d3"
      },
      "outputs": [],
      "source": [
        "for i in column_name:\n",
        "    df_num[i] = scaler.fit_transform(df_num[[i]])"
      ]
    },
    {
      "cell_type": "code",
      "execution_count": null,
      "id": "f64baab7-ba6f-46b3-a44e-a9bfe1e6992f",
      "metadata": {
        "colab": {
          "base_uri": "https://localhost:8080/",
          "height": 206
        },
        "id": "f64baab7-ba6f-46b3-a44e-a9bfe1e6992f",
        "outputId": "fcf11625-5d11-4593-87b2-b95378badf74"
      },
      "outputs": [
        {
          "output_type": "execute_result",
          "data": {
            "text/plain": [
              "   Previous qualification (grade)  Admission grade  Unemployment rate  \\\n",
              "0                        0.284211         0.340000           0.372093   \n",
              "1                        0.684211         0.500000           0.732558   \n",
              "2                        0.284211         0.313684           0.372093   \n",
              "3                        0.284211         0.258947           0.209302   \n",
              "4                        0.052632         0.489474           0.732558   \n",
              "\n",
              "   Inflation rate       GDP  \n",
              "0        0.488889  0.766182  \n",
              "1        0.111111  0.640687  \n",
              "2        0.488889  0.766182  \n",
              "3        0.000000  0.124174  \n",
              "4        0.111111  0.640687  "
            ],
            "text/html": [
              "\n",
              "  <div id=\"df-f84d4de6-ff6e-48ef-ae41-10edda8fa1ae\">\n",
              "    <div class=\"colab-df-container\">\n",
              "      <div>\n",
              "<style scoped>\n",
              "    .dataframe tbody tr th:only-of-type {\n",
              "        vertical-align: middle;\n",
              "    }\n",
              "\n",
              "    .dataframe tbody tr th {\n",
              "        vertical-align: top;\n",
              "    }\n",
              "\n",
              "    .dataframe thead th {\n",
              "        text-align: right;\n",
              "    }\n",
              "</style>\n",
              "<table border=\"1\" class=\"dataframe\">\n",
              "  <thead>\n",
              "    <tr style=\"text-align: right;\">\n",
              "      <th></th>\n",
              "      <th>Previous qualification (grade)</th>\n",
              "      <th>Admission grade</th>\n",
              "      <th>Unemployment rate</th>\n",
              "      <th>Inflation rate</th>\n",
              "      <th>GDP</th>\n",
              "    </tr>\n",
              "  </thead>\n",
              "  <tbody>\n",
              "    <tr>\n",
              "      <th>0</th>\n",
              "      <td>0.284211</td>\n",
              "      <td>0.340000</td>\n",
              "      <td>0.372093</td>\n",
              "      <td>0.488889</td>\n",
              "      <td>0.766182</td>\n",
              "    </tr>\n",
              "    <tr>\n",
              "      <th>1</th>\n",
              "      <td>0.684211</td>\n",
              "      <td>0.500000</td>\n",
              "      <td>0.732558</td>\n",
              "      <td>0.111111</td>\n",
              "      <td>0.640687</td>\n",
              "    </tr>\n",
              "    <tr>\n",
              "      <th>2</th>\n",
              "      <td>0.284211</td>\n",
              "      <td>0.313684</td>\n",
              "      <td>0.372093</td>\n",
              "      <td>0.488889</td>\n",
              "      <td>0.766182</td>\n",
              "    </tr>\n",
              "    <tr>\n",
              "      <th>3</th>\n",
              "      <td>0.284211</td>\n",
              "      <td>0.258947</td>\n",
              "      <td>0.209302</td>\n",
              "      <td>0.000000</td>\n",
              "      <td>0.124174</td>\n",
              "    </tr>\n",
              "    <tr>\n",
              "      <th>4</th>\n",
              "      <td>0.052632</td>\n",
              "      <td>0.489474</td>\n",
              "      <td>0.732558</td>\n",
              "      <td>0.111111</td>\n",
              "      <td>0.640687</td>\n",
              "    </tr>\n",
              "  </tbody>\n",
              "</table>\n",
              "</div>\n",
              "      <button class=\"colab-df-convert\" onclick=\"convertToInteractive('df-f84d4de6-ff6e-48ef-ae41-10edda8fa1ae')\"\n",
              "              title=\"Convert this dataframe to an interactive table.\"\n",
              "              style=\"display:none;\">\n",
              "        \n",
              "  <svg xmlns=\"http://www.w3.org/2000/svg\" height=\"24px\"viewBox=\"0 0 24 24\"\n",
              "       width=\"24px\">\n",
              "    <path d=\"M0 0h24v24H0V0z\" fill=\"none\"/>\n",
              "    <path d=\"M18.56 5.44l.94 2.06.94-2.06 2.06-.94-2.06-.94-.94-2.06-.94 2.06-2.06.94zm-11 1L8.5 8.5l.94-2.06 2.06-.94-2.06-.94L8.5 2.5l-.94 2.06-2.06.94zm10 10l.94 2.06.94-2.06 2.06-.94-2.06-.94-.94-2.06-.94 2.06-2.06.94z\"/><path d=\"M17.41 7.96l-1.37-1.37c-.4-.4-.92-.59-1.43-.59-.52 0-1.04.2-1.43.59L10.3 9.45l-7.72 7.72c-.78.78-.78 2.05 0 2.83L4 21.41c.39.39.9.59 1.41.59.51 0 1.02-.2 1.41-.59l7.78-7.78 2.81-2.81c.8-.78.8-2.07 0-2.86zM5.41 20L4 18.59l7.72-7.72 1.47 1.35L5.41 20z\"/>\n",
              "  </svg>\n",
              "      </button>\n",
              "      \n",
              "  <style>\n",
              "    .colab-df-container {\n",
              "      display:flex;\n",
              "      flex-wrap:wrap;\n",
              "      gap: 12px;\n",
              "    }\n",
              "\n",
              "    .colab-df-convert {\n",
              "      background-color: #E8F0FE;\n",
              "      border: none;\n",
              "      border-radius: 50%;\n",
              "      cursor: pointer;\n",
              "      display: none;\n",
              "      fill: #1967D2;\n",
              "      height: 32px;\n",
              "      padding: 0 0 0 0;\n",
              "      width: 32px;\n",
              "    }\n",
              "\n",
              "    .colab-df-convert:hover {\n",
              "      background-color: #E2EBFA;\n",
              "      box-shadow: 0px 1px 2px rgba(60, 64, 67, 0.3), 0px 1px 3px 1px rgba(60, 64, 67, 0.15);\n",
              "      fill: #174EA6;\n",
              "    }\n",
              "\n",
              "    [theme=dark] .colab-df-convert {\n",
              "      background-color: #3B4455;\n",
              "      fill: #D2E3FC;\n",
              "    }\n",
              "\n",
              "    [theme=dark] .colab-df-convert:hover {\n",
              "      background-color: #434B5C;\n",
              "      box-shadow: 0px 1px 3px 1px rgba(0, 0, 0, 0.15);\n",
              "      filter: drop-shadow(0px 1px 2px rgba(0, 0, 0, 0.3));\n",
              "      fill: #FFFFFF;\n",
              "    }\n",
              "  </style>\n",
              "\n",
              "      <script>\n",
              "        const buttonEl =\n",
              "          document.querySelector('#df-f84d4de6-ff6e-48ef-ae41-10edda8fa1ae button.colab-df-convert');\n",
              "        buttonEl.style.display =\n",
              "          google.colab.kernel.accessAllowed ? 'block' : 'none';\n",
              "\n",
              "        async function convertToInteractive(key) {\n",
              "          const element = document.querySelector('#df-f84d4de6-ff6e-48ef-ae41-10edda8fa1ae');\n",
              "          const dataTable =\n",
              "            await google.colab.kernel.invokeFunction('convertToInteractive',\n",
              "                                                     [key], {});\n",
              "          if (!dataTable) return;\n",
              "\n",
              "          const docLinkHtml = 'Like what you see? Visit the ' +\n",
              "            '<a target=\"_blank\" href=https://colab.research.google.com/notebooks/data_table.ipynb>data table notebook</a>'\n",
              "            + ' to learn more about interactive tables.';\n",
              "          element.innerHTML = '';\n",
              "          dataTable['output_type'] = 'display_data';\n",
              "          await google.colab.output.renderOutput(dataTable, element);\n",
              "          const docLink = document.createElement('div');\n",
              "          docLink.innerHTML = docLinkHtml;\n",
              "          element.appendChild(docLink);\n",
              "        }\n",
              "      </script>\n",
              "    </div>\n",
              "  </div>\n",
              "  "
            ]
          },
          "metadata": {},
          "execution_count": 24
        }
      ],
      "source": [
        "df_num[column_name].head()"
      ]
    },
    {
      "cell_type": "markdown",
      "id": "27f4a62a-2e63-464c-96c6-d49b1b5e1b6c",
      "metadata": {
        "id": "27f4a62a-2e63-464c-96c6-d49b1b5e1b6c"
      },
      "source": [
        "### Feature Selection"
      ]
    },
    {
      "cell_type": "markdown",
      "source": [
        "Gabungkan data numerikal dan kategorikal tadi"
      ],
      "metadata": {
        "id": "lPHmGKzeVSaD"
      },
      "id": "lPHmGKzeVSaD"
    },
    {
      "cell_type": "code",
      "execution_count": null,
      "id": "219bad4e-1c94-4678-8aa7-eaba716c14be",
      "metadata": {
        "id": "219bad4e-1c94-4678-8aa7-eaba716c14be"
      },
      "outputs": [],
      "source": [
        "df1 = pd.concat([df_num, df_cat], axis = 1)"
      ]
    },
    {
      "cell_type": "code",
      "execution_count": null,
      "id": "d78f66e5-79b2-4d53-bda5-56908a352494",
      "metadata": {
        "colab": {
          "base_uri": "https://localhost:8080/",
          "height": 351
        },
        "id": "d78f66e5-79b2-4d53-bda5-56908a352494",
        "outputId": "3f8b3ecb-4214-4bc4-a4de-432d8b819deb"
      },
      "outputs": [
        {
          "output_type": "execute_result",
          "data": {
            "text/plain": [
              "   Marital status  Application mode  Application order  Course  \\\n",
              "0               1                17                  5     171   \n",
              "1               1                15                  1    9254   \n",
              "2               1                 1                  5    9070   \n",
              "3               1                17                  2    9773   \n",
              "4               2                39                  1    8014   \n",
              "\n",
              "   Daytime/evening attendance\\t  Previous qualification  \\\n",
              "0                             1                       1   \n",
              "1                             1                       1   \n",
              "2                             1                       1   \n",
              "3                             1                       1   \n",
              "4                             0                       1   \n",
              "\n",
              "   Previous qualification (grade)  Nationality  Mother's qualification  \\\n",
              "0                        0.284211            1                      19   \n",
              "1                        0.684211            1                       1   \n",
              "2                        0.284211            1                      37   \n",
              "3                        0.284211            1                      38   \n",
              "4                        0.052632            1                      37   \n",
              "\n",
              "   Father's qualification  ...  Curricular units 2nd sem (credited)  \\\n",
              "0                      12  ...                                    0   \n",
              "1                       3  ...                                    0   \n",
              "2                      37  ...                                    0   \n",
              "3                      37  ...                                    0   \n",
              "4                      38  ...                                    0   \n",
              "\n",
              "   Curricular units 2nd sem (enrolled)  \\\n",
              "0                                    0   \n",
              "1                                    6   \n",
              "2                                    6   \n",
              "3                                    6   \n",
              "4                                    6   \n",
              "\n",
              "   Curricular units 2nd sem (evaluations)  \\\n",
              "0                                       0   \n",
              "1                                       6   \n",
              "2                                       0   \n",
              "3                                      10   \n",
              "4                                       6   \n",
              "\n",
              "   Curricular units 2nd sem (approved)  Curricular units 2nd sem (grade)  \\\n",
              "0                                    0                          0.000000   \n",
              "1                                    6                         13.666667   \n",
              "2                                    0                          0.000000   \n",
              "3                                    5                         12.400000   \n",
              "4                                    6                         13.000000   \n",
              "\n",
              "   Curricular units 2nd sem (without evaluations)  Unemployment rate  \\\n",
              "0                                               0           0.372093   \n",
              "1                                               0           0.732558   \n",
              "2                                               0           0.372093   \n",
              "3                                               0           0.209302   \n",
              "4                                               0           0.732558   \n",
              "\n",
              "   Inflation rate       GDP  Target  \n",
              "0        0.488889  0.766182       0  \n",
              "1        0.111111  0.640687       1  \n",
              "2        0.488889  0.766182       0  \n",
              "3        0.000000  0.124174       1  \n",
              "4        0.111111  0.640687       1  \n",
              "\n",
              "[5 rows x 37 columns]"
            ],
            "text/html": [
              "\n",
              "  <div id=\"df-ecd282b6-78cc-48ba-ab60-8fbdd2badc81\">\n",
              "    <div class=\"colab-df-container\">\n",
              "      <div>\n",
              "<style scoped>\n",
              "    .dataframe tbody tr th:only-of-type {\n",
              "        vertical-align: middle;\n",
              "    }\n",
              "\n",
              "    .dataframe tbody tr th {\n",
              "        vertical-align: top;\n",
              "    }\n",
              "\n",
              "    .dataframe thead th {\n",
              "        text-align: right;\n",
              "    }\n",
              "</style>\n",
              "<table border=\"1\" class=\"dataframe\">\n",
              "  <thead>\n",
              "    <tr style=\"text-align: right;\">\n",
              "      <th></th>\n",
              "      <th>Marital status</th>\n",
              "      <th>Application mode</th>\n",
              "      <th>Application order</th>\n",
              "      <th>Course</th>\n",
              "      <th>Daytime/evening attendance\\t</th>\n",
              "      <th>Previous qualification</th>\n",
              "      <th>Previous qualification (grade)</th>\n",
              "      <th>Nationality</th>\n",
              "      <th>Mother's qualification</th>\n",
              "      <th>Father's qualification</th>\n",
              "      <th>...</th>\n",
              "      <th>Curricular units 2nd sem (credited)</th>\n",
              "      <th>Curricular units 2nd sem (enrolled)</th>\n",
              "      <th>Curricular units 2nd sem (evaluations)</th>\n",
              "      <th>Curricular units 2nd sem (approved)</th>\n",
              "      <th>Curricular units 2nd sem (grade)</th>\n",
              "      <th>Curricular units 2nd sem (without evaluations)</th>\n",
              "      <th>Unemployment rate</th>\n",
              "      <th>Inflation rate</th>\n",
              "      <th>GDP</th>\n",
              "      <th>Target</th>\n",
              "    </tr>\n",
              "  </thead>\n",
              "  <tbody>\n",
              "    <tr>\n",
              "      <th>0</th>\n",
              "      <td>1</td>\n",
              "      <td>17</td>\n",
              "      <td>5</td>\n",
              "      <td>171</td>\n",
              "      <td>1</td>\n",
              "      <td>1</td>\n",
              "      <td>0.284211</td>\n",
              "      <td>1</td>\n",
              "      <td>19</td>\n",
              "      <td>12</td>\n",
              "      <td>...</td>\n",
              "      <td>0</td>\n",
              "      <td>0</td>\n",
              "      <td>0</td>\n",
              "      <td>0</td>\n",
              "      <td>0.000000</td>\n",
              "      <td>0</td>\n",
              "      <td>0.372093</td>\n",
              "      <td>0.488889</td>\n",
              "      <td>0.766182</td>\n",
              "      <td>0</td>\n",
              "    </tr>\n",
              "    <tr>\n",
              "      <th>1</th>\n",
              "      <td>1</td>\n",
              "      <td>15</td>\n",
              "      <td>1</td>\n",
              "      <td>9254</td>\n",
              "      <td>1</td>\n",
              "      <td>1</td>\n",
              "      <td>0.684211</td>\n",
              "      <td>1</td>\n",
              "      <td>1</td>\n",
              "      <td>3</td>\n",
              "      <td>...</td>\n",
              "      <td>0</td>\n",
              "      <td>6</td>\n",
              "      <td>6</td>\n",
              "      <td>6</td>\n",
              "      <td>13.666667</td>\n",
              "      <td>0</td>\n",
              "      <td>0.732558</td>\n",
              "      <td>0.111111</td>\n",
              "      <td>0.640687</td>\n",
              "      <td>1</td>\n",
              "    </tr>\n",
              "    <tr>\n",
              "      <th>2</th>\n",
              "      <td>1</td>\n",
              "      <td>1</td>\n",
              "      <td>5</td>\n",
              "      <td>9070</td>\n",
              "      <td>1</td>\n",
              "      <td>1</td>\n",
              "      <td>0.284211</td>\n",
              "      <td>1</td>\n",
              "      <td>37</td>\n",
              "      <td>37</td>\n",
              "      <td>...</td>\n",
              "      <td>0</td>\n",
              "      <td>6</td>\n",
              "      <td>0</td>\n",
              "      <td>0</td>\n",
              "      <td>0.000000</td>\n",
              "      <td>0</td>\n",
              "      <td>0.372093</td>\n",
              "      <td>0.488889</td>\n",
              "      <td>0.766182</td>\n",
              "      <td>0</td>\n",
              "    </tr>\n",
              "    <tr>\n",
              "      <th>3</th>\n",
              "      <td>1</td>\n",
              "      <td>17</td>\n",
              "      <td>2</td>\n",
              "      <td>9773</td>\n",
              "      <td>1</td>\n",
              "      <td>1</td>\n",
              "      <td>0.284211</td>\n",
              "      <td>1</td>\n",
              "      <td>38</td>\n",
              "      <td>37</td>\n",
              "      <td>...</td>\n",
              "      <td>0</td>\n",
              "      <td>6</td>\n",
              "      <td>10</td>\n",
              "      <td>5</td>\n",
              "      <td>12.400000</td>\n",
              "      <td>0</td>\n",
              "      <td>0.209302</td>\n",
              "      <td>0.000000</td>\n",
              "      <td>0.124174</td>\n",
              "      <td>1</td>\n",
              "    </tr>\n",
              "    <tr>\n",
              "      <th>4</th>\n",
              "      <td>2</td>\n",
              "      <td>39</td>\n",
              "      <td>1</td>\n",
              "      <td>8014</td>\n",
              "      <td>0</td>\n",
              "      <td>1</td>\n",
              "      <td>0.052632</td>\n",
              "      <td>1</td>\n",
              "      <td>37</td>\n",
              "      <td>38</td>\n",
              "      <td>...</td>\n",
              "      <td>0</td>\n",
              "      <td>6</td>\n",
              "      <td>6</td>\n",
              "      <td>6</td>\n",
              "      <td>13.000000</td>\n",
              "      <td>0</td>\n",
              "      <td>0.732558</td>\n",
              "      <td>0.111111</td>\n",
              "      <td>0.640687</td>\n",
              "      <td>1</td>\n",
              "    </tr>\n",
              "  </tbody>\n",
              "</table>\n",
              "<p>5 rows × 37 columns</p>\n",
              "</div>\n",
              "      <button class=\"colab-df-convert\" onclick=\"convertToInteractive('df-ecd282b6-78cc-48ba-ab60-8fbdd2badc81')\"\n",
              "              title=\"Convert this dataframe to an interactive table.\"\n",
              "              style=\"display:none;\">\n",
              "        \n",
              "  <svg xmlns=\"http://www.w3.org/2000/svg\" height=\"24px\"viewBox=\"0 0 24 24\"\n",
              "       width=\"24px\">\n",
              "    <path d=\"M0 0h24v24H0V0z\" fill=\"none\"/>\n",
              "    <path d=\"M18.56 5.44l.94 2.06.94-2.06 2.06-.94-2.06-.94-.94-2.06-.94 2.06-2.06.94zm-11 1L8.5 8.5l.94-2.06 2.06-.94-2.06-.94L8.5 2.5l-.94 2.06-2.06.94zm10 10l.94 2.06.94-2.06 2.06-.94-2.06-.94-.94-2.06-.94 2.06-2.06.94z\"/><path d=\"M17.41 7.96l-1.37-1.37c-.4-.4-.92-.59-1.43-.59-.52 0-1.04.2-1.43.59L10.3 9.45l-7.72 7.72c-.78.78-.78 2.05 0 2.83L4 21.41c.39.39.9.59 1.41.59.51 0 1.02-.2 1.41-.59l7.78-7.78 2.81-2.81c.8-.78.8-2.07 0-2.86zM5.41 20L4 18.59l7.72-7.72 1.47 1.35L5.41 20z\"/>\n",
              "  </svg>\n",
              "      </button>\n",
              "      \n",
              "  <style>\n",
              "    .colab-df-container {\n",
              "      display:flex;\n",
              "      flex-wrap:wrap;\n",
              "      gap: 12px;\n",
              "    }\n",
              "\n",
              "    .colab-df-convert {\n",
              "      background-color: #E8F0FE;\n",
              "      border: none;\n",
              "      border-radius: 50%;\n",
              "      cursor: pointer;\n",
              "      display: none;\n",
              "      fill: #1967D2;\n",
              "      height: 32px;\n",
              "      padding: 0 0 0 0;\n",
              "      width: 32px;\n",
              "    }\n",
              "\n",
              "    .colab-df-convert:hover {\n",
              "      background-color: #E2EBFA;\n",
              "      box-shadow: 0px 1px 2px rgba(60, 64, 67, 0.3), 0px 1px 3px 1px rgba(60, 64, 67, 0.15);\n",
              "      fill: #174EA6;\n",
              "    }\n",
              "\n",
              "    [theme=dark] .colab-df-convert {\n",
              "      background-color: #3B4455;\n",
              "      fill: #D2E3FC;\n",
              "    }\n",
              "\n",
              "    [theme=dark] .colab-df-convert:hover {\n",
              "      background-color: #434B5C;\n",
              "      box-shadow: 0px 1px 3px 1px rgba(0, 0, 0, 0.15);\n",
              "      filter: drop-shadow(0px 1px 2px rgba(0, 0, 0, 0.3));\n",
              "      fill: #FFFFFF;\n",
              "    }\n",
              "  </style>\n",
              "\n",
              "      <script>\n",
              "        const buttonEl =\n",
              "          document.querySelector('#df-ecd282b6-78cc-48ba-ab60-8fbdd2badc81 button.colab-df-convert');\n",
              "        buttonEl.style.display =\n",
              "          google.colab.kernel.accessAllowed ? 'block' : 'none';\n",
              "\n",
              "        async function convertToInteractive(key) {\n",
              "          const element = document.querySelector('#df-ecd282b6-78cc-48ba-ab60-8fbdd2badc81');\n",
              "          const dataTable =\n",
              "            await google.colab.kernel.invokeFunction('convertToInteractive',\n",
              "                                                     [key], {});\n",
              "          if (!dataTable) return;\n",
              "\n",
              "          const docLinkHtml = 'Like what you see? Visit the ' +\n",
              "            '<a target=\"_blank\" href=https://colab.research.google.com/notebooks/data_table.ipynb>data table notebook</a>'\n",
              "            + ' to learn more about interactive tables.';\n",
              "          element.innerHTML = '';\n",
              "          dataTable['output_type'] = 'display_data';\n",
              "          await google.colab.output.renderOutput(dataTable, element);\n",
              "          const docLink = document.createElement('div');\n",
              "          docLink.innerHTML = docLinkHtml;\n",
              "          element.appendChild(docLink);\n",
              "        }\n",
              "      </script>\n",
              "    </div>\n",
              "  </div>\n",
              "  "
            ]
          },
          "metadata": {},
          "execution_count": 26
        }
      ],
      "source": [
        "df1.head()"
      ]
    },
    {
      "cell_type": "code",
      "execution_count": null,
      "id": "3b317f9a-6da7-4aa7-8735-cff89551b985",
      "metadata": {
        "colab": {
          "base_uri": "https://localhost:8080/"
        },
        "id": "3b317f9a-6da7-4aa7-8735-cff89551b985",
        "outputId": "cbd91d49-c201-4976-da17-89067b69b4bc"
      },
      "outputs": [
        {
          "output_type": "stream",
          "name": "stdout",
          "text": [
            "<class 'pandas.core.frame.DataFrame'>\n",
            "Int64Index: 3630 entries, 0 to 4423\n",
            "Data columns (total 37 columns):\n",
            " #   Column                                          Non-Null Count  Dtype  \n",
            "---  ------                                          --------------  -----  \n",
            " 0   Marital status                                  3630 non-null   int64  \n",
            " 1   Application mode                                3630 non-null   int64  \n",
            " 2   Application order                               3630 non-null   int64  \n",
            " 3   Course                                          3630 non-null   int64  \n",
            " 4   Daytime/evening attendance\t                     3630 non-null   int64  \n",
            " 5   Previous qualification                          3630 non-null   int64  \n",
            " 6   Previous qualification (grade)                  3630 non-null   float64\n",
            " 7   Nationality                                     3630 non-null   int64  \n",
            " 8   Mother's qualification                          3630 non-null   int64  \n",
            " 9   Father's qualification                          3630 non-null   int64  \n",
            " 10  Mother's occupation                             3630 non-null   int64  \n",
            " 11  Father's occupation                             3630 non-null   int64  \n",
            " 12  Admission grade                                 3630 non-null   float64\n",
            " 13  Displaced                                       3630 non-null   int64  \n",
            " 14  Educational special needs                       3630 non-null   int64  \n",
            " 15  Debtor                                          3630 non-null   int64  \n",
            " 16  Tuition fees up to date                         3630 non-null   int64  \n",
            " 17  Gender                                          3630 non-null   int64  \n",
            " 18  Scholarship holder                              3630 non-null   int64  \n",
            " 19  Age at enrollment                               3630 non-null   int64  \n",
            " 20  International                                   3630 non-null   int64  \n",
            " 21  Curricular units 1st sem (credited)             3630 non-null   int64  \n",
            " 22  Curricular units 1st sem (enrolled)             3630 non-null   int64  \n",
            " 23  Curricular units 1st sem (evaluations)          3630 non-null   int64  \n",
            " 24  Curricular units 1st sem (approved)             3630 non-null   int64  \n",
            " 25  Curricular units 1st sem (grade)                3630 non-null   float64\n",
            " 26  Curricular units 1st sem (without evaluations)  3630 non-null   int64  \n",
            " 27  Curricular units 2nd sem (credited)             3630 non-null   int64  \n",
            " 28  Curricular units 2nd sem (enrolled)             3630 non-null   int64  \n",
            " 29  Curricular units 2nd sem (evaluations)          3630 non-null   int64  \n",
            " 30  Curricular units 2nd sem (approved)             3630 non-null   int64  \n",
            " 31  Curricular units 2nd sem (grade)                3630 non-null   float64\n",
            " 32  Curricular units 2nd sem (without evaluations)  3630 non-null   int64  \n",
            " 33  Unemployment rate                               3630 non-null   float64\n",
            " 34  Inflation rate                                  3630 non-null   float64\n",
            " 35  GDP                                             3630 non-null   float64\n",
            " 36  Target                                          3630 non-null   int64  \n",
            "dtypes: float64(7), int64(30)\n",
            "memory usage: 1.2 MB\n"
          ]
        }
      ],
      "source": [
        "df1.info()"
      ]
    },
    {
      "cell_type": "markdown",
      "id": "0afe8eda-f44e-43fe-9821-434c8d8e7861",
      "metadata": {
        "tags": [],
        "id": "0afe8eda-f44e-43fe-9821-434c8d8e7861"
      },
      "source": [
        "#### EMBEDDED METHOD (FEATURE IMPORTANCES)"
      ]
    },
    {
      "cell_type": "markdown",
      "source": [
        "Kita menggunakan Embedded Method, dimana metode ini akan mencari nilai untuk masing masing feature berdasarkan nilai kepentingannya dengan menggunakan bantuan dari model ExtraTreeClassifier()"
      ],
      "metadata": {
        "id": "B6lzZUnFj703"
      },
      "id": "B6lzZUnFj703"
    },
    {
      "cell_type": "code",
      "execution_count": null,
      "id": "fb716cc2-a481-407f-864f-5d07b81ad56b",
      "metadata": {
        "id": "fb716cc2-a481-407f-864f-5d07b81ad56b"
      },
      "outputs": [],
      "source": [
        "# split dependent dan independent (target)\n",
        "X = df1.drop(columns=[\"Target\"])# independent feature, non target\n",
        "y = df1[\"Target\"] # target"
      ]
    },
    {
      "cell_type": "code",
      "execution_count": null,
      "id": "cca8cbf3-1fc6-4cdc-bada-a01dc8aaac3a",
      "metadata": {
        "colab": {
          "base_uri": "https://localhost:8080/"
        },
        "id": "cca8cbf3-1fc6-4cdc-bada-a01dc8aaac3a",
        "outputId": "8ac37a7b-5526-4b9a-d5d7-76831939b851"
      },
      "outputs": [
        {
          "output_type": "stream",
          "name": "stdout",
          "text": [
            "[0.00440363 0.02522061 0.01206418 0.02548502 0.00416678 0.00575179\n",
            " 0.01802937 0.00224477 0.01565326 0.01528468 0.0153846  0.01659552\n",
            " 0.01912982 0.01000209 0.00143651 0.02740253 0.09231879 0.02210412\n",
            " 0.03755217 0.02091337 0.00212562 0.00796056 0.01923956 0.02269827\n",
            " 0.07613616 0.07887858 0.00528647 0.00675415 0.01923315 0.02733346\n",
            " 0.13732501 0.1549927  0.00597415 0.01552205 0.01471218 0.01468429]\n"
          ]
        }
      ],
      "source": [
        "# embedded method dengan ExtraTree\n",
        "model = ExtraTreesClassifier()\n",
        "model.fit(X,y) # fit model\n",
        "print(model.feature_importances_) # gunakan inbuilt class: feature_importances"
      ]
    },
    {
      "cell_type": "code",
      "execution_count": null,
      "id": "1306d670-7c29-457b-83f5-dee17d7c74ca",
      "metadata": {
        "id": "1306d670-7c29-457b-83f5-dee17d7c74ca"
      },
      "outputs": [],
      "source": [
        "# hasil feature importances\n",
        "feat_importances = pd.Series(model.feature_importances_, index = X.columns)"
      ]
    },
    {
      "cell_type": "code",
      "execution_count": null,
      "id": "e9845c39-0b2a-497a-980f-94945ef482be",
      "metadata": {
        "colab": {
          "base_uri": "https://localhost:8080/"
        },
        "id": "e9845c39-0b2a-497a-980f-94945ef482be",
        "outputId": "2104ec71-2b41-4eae-ca81-b03bf56ee096"
      },
      "outputs": [
        {
          "output_type": "execute_result",
          "data": {
            "text/plain": [
              "Curricular units 2nd sem (grade)                  0.154993\n",
              "Curricular units 2nd sem (approved)               0.137325\n",
              "Tuition fees up to date                           0.092319\n",
              "Curricular units 1st sem (grade)                  0.078879\n",
              "Curricular units 1st sem (approved)               0.076136\n",
              "Scholarship holder                                0.037552\n",
              "Debtor                                            0.027403\n",
              "Curricular units 2nd sem (evaluations)            0.027333\n",
              "Course                                            0.025485\n",
              "Application mode                                  0.025221\n",
              "Curricular units 1st sem (evaluations)            0.022698\n",
              "Gender                                            0.022104\n",
              "Age at enrollment                                 0.020913\n",
              "Curricular units 1st sem (enrolled)               0.019240\n",
              "Curricular units 2nd sem (enrolled)               0.019233\n",
              "Admission grade                                   0.019130\n",
              "Previous qualification (grade)                    0.018029\n",
              "Father's occupation                               0.016596\n",
              "Mother's qualification                            0.015653\n",
              "Unemployment rate                                 0.015522\n",
              "Mother's occupation                               0.015385\n",
              "Father's qualification                            0.015285\n",
              "Inflation rate                                    0.014712\n",
              "GDP                                               0.014684\n",
              "Application order                                 0.012064\n",
              "Displaced                                         0.010002\n",
              "Curricular units 1st sem (credited)               0.007961\n",
              "Curricular units 2nd sem (credited)               0.006754\n",
              "Curricular units 2nd sem (without evaluations)    0.005974\n",
              "Previous qualification                            0.005752\n",
              "Curricular units 1st sem (without evaluations)    0.005286\n",
              "Marital status                                    0.004404\n",
              "Daytime/evening attendance\\t                      0.004167\n",
              "Nationality                                       0.002245\n",
              "International                                     0.002126\n",
              "Educational special needs                         0.001437\n",
              "dtype: float64"
            ]
          },
          "metadata": {},
          "execution_count": 31
        }
      ],
      "source": [
        "feat_importances.nlargest(36)"
      ]
    },
    {
      "cell_type": "code",
      "execution_count": null,
      "id": "2d9bac35-7fff-4429-af93-f77d314cf239",
      "metadata": {
        "colab": {
          "base_uri": "https://localhost:8080/",
          "height": 599
        },
        "id": "2d9bac35-7fff-4429-af93-f77d314cf239",
        "outputId": "18a7c280-38c8-4478-91ad-1153caf4be0b"
      },
      "outputs": [
        {
          "output_type": "display_data",
          "data": {
            "text/plain": [
              "<Figure size 1000x700 with 1 Axes>"
            ],
            "image/png": "[encoded data removed]"
          },
          "metadata": {}
        }
      ],
      "source": [
        "# plot hasil feature importances\n",
        "plt.figure(figsize = (10,7))\n",
        "feat_importances.nlargest(40).plot(kind='barh')\n",
        "plt.show()"
      ]
    },
    {
      "cell_type": "markdown",
      "source": [
        "Disini kita akan mengambil 8 Feature yg memiliki nilai Importance tertinggi, lalu memasukkan kedalam dataframe baru."
      ],
      "metadata": {
        "id": "Pd4H0Yl0kmdL"
      },
      "id": "Pd4H0Yl0kmdL"
    },
    {
      "cell_type": "code",
      "execution_count": null,
      "id": "ec0ae8a9-dec8-4d54-bd35-7153538f6b42",
      "metadata": {
        "id": "ec0ae8a9-dec8-4d54-bd35-7153538f6b42"
      },
      "outputs": [],
      "source": [
        "# masukkan hasil kedalam dataframe baru.\n",
        "col = feat_importances.nlargest(8).index.tolist()\n",
        "\n",
        "col.append(\"Target\")\n",
        "\n",
        "df_new = df1[col]"
      ]
    },
    {
      "cell_type": "code",
      "execution_count": null,
      "id": "b6d437cd-627a-4c41-b301-0ce250f0027b",
      "metadata": {
        "colab": {
          "base_uri": "https://localhost:8080/",
          "height": 267
        },
        "id": "b6d437cd-627a-4c41-b301-0ce250f0027b",
        "outputId": "6cdb9c07-c31b-475a-fee2-132ceaa3fb91"
      },
      "outputs": [
        {
          "output_type": "execute_result",
          "data": {
            "text/plain": [
              "   Curricular units 2nd sem (grade)  Curricular units 2nd sem (approved)  \\\n",
              "0                          0.000000                                    0   \n",
              "1                         13.666667                                    6   \n",
              "2                          0.000000                                    0   \n",
              "3                         12.400000                                    5   \n",
              "4                         13.000000                                    6   \n",
              "\n",
              "   Tuition fees up to date  Curricular units 1st sem (grade)  \\\n",
              "0                        1                          0.000000   \n",
              "1                        0                         14.000000   \n",
              "2                        0                          0.000000   \n",
              "3                        1                         13.428571   \n",
              "4                        1                         12.333333   \n",
              "\n",
              "   Curricular units 1st sem (approved)  Scholarship holder  Debtor  \\\n",
              "0                                    0                   0       0   \n",
              "1                                    6                   0       0   \n",
              "2                                    0                   0       0   \n",
              "3                                    6                   0       0   \n",
              "4                                    5                   0       0   \n",
              "\n",
              "   Curricular units 2nd sem (evaluations)  Target  \n",
              "0                                       0       0  \n",
              "1                                       6       1  \n",
              "2                                       0       0  \n",
              "3                                      10       1  \n",
              "4                                       6       1  "
            ],
            "text/html": [
              "\n",
              "  <div id=\"df-fb938293-c57f-48c1-bd8e-cc07ebfb65d5\">\n",
              "    <div class=\"colab-df-container\">\n",
              "      <div>\n",
              "<style scoped>\n",
              "    .dataframe tbody tr th:only-of-type {\n",
              "        vertical-align: middle;\n",
              "    }\n",
              "\n",
              "    .dataframe tbody tr th {\n",
              "        vertical-align: top;\n",
              "    }\n",
              "\n",
              "    .dataframe thead th {\n",
              "        text-align: right;\n",
              "    }\n",
              "</style>\n",
              "<table border=\"1\" class=\"dataframe\">\n",
              "  <thead>\n",
              "    <tr style=\"text-align: right;\">\n",
              "      <th></th>\n",
              "      <th>Curricular units 2nd sem (grade)</th>\n",
              "      <th>Curricular units 2nd sem (approved)</th>\n",
              "      <th>Tuition fees up to date</th>\n",
              "      <th>Curricular units 1st sem (grade)</th>\n",
              "      <th>Curricular units 1st sem (approved)</th>\n",
              "      <th>Scholarship holder</th>\n",
              "      <th>Debtor</th>\n",
              "      <th>Curricular units 2nd sem (evaluations)</th>\n",
              "      <th>Target</th>\n",
              "    </tr>\n",
              "  </thead>\n",
              "  <tbody>\n",
              "    <tr>\n",
              "      <th>0</th>\n",
              "      <td>0.000000</td>\n",
              "      <td>0</td>\n",
              "      <td>1</td>\n",
              "      <td>0.000000</td>\n",
              "      <td>0</td>\n",
              "      <td>0</td>\n",
              "      <td>0</td>\n",
              "      <td>0</td>\n",
              "      <td>0</td>\n",
              "    </tr>\n",
              "    <tr>\n",
              "      <th>1</th>\n",
              "      <td>13.666667</td>\n",
              "      <td>6</td>\n",
              "      <td>0</td>\n",
              "      <td>14.000000</td>\n",
              "      <td>6</td>\n",
              "      <td>0</td>\n",
              "      <td>0</td>\n",
              "      <td>6</td>\n",
              "      <td>1</td>\n",
              "    </tr>\n",
              "    <tr>\n",
              "      <th>2</th>\n",
              "      <td>0.000000</td>\n",
              "      <td>0</td>\n",
              "      <td>0</td>\n",
              "      <td>0.000000</td>\n",
              "      <td>0</td>\n",
              "      <td>0</td>\n",
              "      <td>0</td>\n",
              "      <td>0</td>\n",
              "      <td>0</td>\n",
              "    </tr>\n",
              "    <tr>\n",
              "      <th>3</th>\n",
              "      <td>12.400000</td>\n",
              "      <td>5</td>\n",
              "      <td>1</td>\n",
              "      <td>13.428571</td>\n",
              "      <td>6</td>\n",
              "      <td>0</td>\n",
              "      <td>0</td>\n",
              "      <td>10</td>\n",
              "      <td>1</td>\n",
              "    </tr>\n",
              "    <tr>\n",
              "      <th>4</th>\n",
              "      <td>13.000000</td>\n",
              "      <td>6</td>\n",
              "      <td>1</td>\n",
              "      <td>12.333333</td>\n",
              "      <td>5</td>\n",
              "      <td>0</td>\n",
              "      <td>0</td>\n",
              "      <td>6</td>\n",
              "      <td>1</td>\n",
              "    </tr>\n",
              "  </tbody>\n",
              "</table>\n",
              "</div>\n",
              "      <button class=\"colab-df-convert\" onclick=\"convertToInteractive('df-fb938293-c57f-48c1-bd8e-cc07ebfb65d5')\"\n",
              "              title=\"Convert this dataframe to an interactive table.\"\n",
              "              style=\"display:none;\">\n",
              "        \n",
              "  <svg xmlns=\"http://www.w3.org/2000/svg\" height=\"24px\"viewBox=\"0 0 24 24\"\n",
              "       width=\"24px\">\n",
              "    <path d=\"M0 0h24v24H0V0z\" fill=\"none\"/>\n",
              "    <path d=\"M18.56 5.44l.94 2.06.94-2.06 2.06-.94-2.06-.94-.94-2.06-.94 2.06-2.06.94zm-11 1L8.5 8.5l.94-2.06 2.06-.94-2.06-.94L8.5 2.5l-.94 2.06-2.06.94zm10 10l.94 2.06.94-2.06 2.06-.94-2.06-.94-.94-2.06-.94 2.06-2.06.94z\"/><path d=\"M17.41 7.96l-1.37-1.37c-.4-.4-.92-.59-1.43-.59-.52 0-1.04.2-1.43.59L10.3 9.45l-7.72 7.72c-.78.78-.78 2.05 0 2.83L4 21.41c.39.39.9.59 1.41.59.51 0 1.02-.2 1.41-.59l7.78-7.78 2.81-2.81c.8-.78.8-2.07 0-2.86zM5.41 20L4 18.59l7.72-7.72 1.47 1.35L5.41 20z\"/>\n",
              "  </svg>\n",
              "      </button>\n",
              "      \n",
              "  <style>\n",
              "    .colab-df-container {\n",
              "      display:flex;\n",
              "      flex-wrap:wrap;\n",
              "      gap: 12px;\n",
              "    }\n",
              "\n",
              "    .colab-df-convert {\n",
              "      background-color: #E8F0FE;\n",
              "      border: none;\n",
              "      border-radius: 50%;\n",
              "      cursor: pointer;\n",
              "      display: none;\n",
              "      fill: #1967D2;\n",
              "      height: 32px;\n",
              "      padding: 0 0 0 0;\n",
              "      width: 32px;\n",
              "    }\n",
              "\n",
              "    .colab-df-convert:hover {\n",
              "      background-color: #E2EBFA;\n",
              "      box-shadow: 0px 1px 2px rgba(60, 64, 67, 0.3), 0px 1px 3px 1px rgba(60, 64, 67, 0.15);\n",
              "      fill: #174EA6;\n",
              "    }\n",
              "\n",
              "    [theme=dark] .colab-df-convert {\n",
              "      background-color: #3B4455;\n",
              "      fill: #D2E3FC;\n",
              "    }\n",
              "\n",
              "    [theme=dark] .colab-df-convert:hover {\n",
              "      background-color: #434B5C;\n",
              "      box-shadow: 0px 1px 3px 1px rgba(0, 0, 0, 0.15);\n",
              "      filter: drop-shadow(0px 1px 2px rgba(0, 0, 0, 0.3));\n",
              "      fill: #FFFFFF;\n",
              "    }\n",
              "  </style>\n",
              "\n",
              "      <script>\n",
              "        const buttonEl =\n",
              "          document.querySelector('#df-fb938293-c57f-48c1-bd8e-cc07ebfb65d5 button.colab-df-convert');\n",
              "        buttonEl.style.display =\n",
              "          google.colab.kernel.accessAllowed ? 'block' : 'none';\n",
              "\n",
              "        async function convertToInteractive(key) {\n",
              "          const element = document.querySelector('#df-fb938293-c57f-48c1-bd8e-cc07ebfb65d5');\n",
              "          const dataTable =\n",
              "            await google.colab.kernel.invokeFunction('convertToInteractive',\n",
              "                                                     [key], {});\n",
              "          if (!dataTable) return;\n",
              "\n",
              "          const docLinkHtml = 'Like what you see? Visit the ' +\n",
              "            '<a target=\"_blank\" href=https://colab.research.google.com/notebooks/data_table.ipynb>data table notebook</a>'\n",
              "            + ' to learn more about interactive tables.';\n",
              "          element.innerHTML = '';\n",
              "          dataTable['output_type'] = 'display_data';\n",
              "          await google.colab.output.renderOutput(dataTable, element);\n",
              "          const docLink = document.createElement('div');\n",
              "          docLink.innerHTML = docLinkHtml;\n",
              "          element.appendChild(docLink);\n",
              "        }\n",
              "      </script>\n",
              "    </div>\n",
              "  </div>\n",
              "  "
            ]
          },
          "metadata": {},
          "execution_count": 34
        }
      ],
      "source": [
        "df_new.head()"
      ]
    },
    {
      "cell_type": "markdown",
      "id": "c9d0a0ae-387f-4394-ab63-3a6805863677",
      "metadata": {
        "id": "c9d0a0ae-387f-4394-ab63-3a6805863677"
      },
      "source": [
        "## MODELING"
      ]
    },
    {
      "cell_type": "markdown",
      "source": [
        "Import library untuk modeling"
      ],
      "metadata": {
        "id": "P6LulEbgk4UK"
      },
      "id": "P6LulEbgk4UK"
    },
    {
      "cell_type": "code",
      "execution_count": null,
      "metadata": {
        "id": "b9e2c3c3-1121-47f9-a897-bf173a5e77ec"
      },
      "outputs": [],
      "source": [
        "import tensorflow as tf\n",
        "from tensorflow.keras.models import Sequential\n",
        "from sklearn.model_selection import train_test_split\n",
        "from tensorflow.keras.layers import Dense"
      ],
      "id": "b9e2c3c3-1121-47f9-a897-bf173a5e77ec"
    },
    {
      "cell_type": "markdown",
      "source": [
        "Masukkan nilainya kedalam variabel dataset."
      ],
      "metadata": {
        "id": "vXAhrixuk6nK"
      },
      "id": "vXAhrixuk6nK"
    },
    {
      "cell_type": "code",
      "source": [
        "dataset = df_new.values\n",
        "dataset"
      ],
      "metadata": {
        "colab": {
          "base_uri": "https://localhost:8080/"
        },
        "id": "eG8lH0iyovZB",
        "outputId": "38cfabba-bb88-4ccd-bd58-1396a0f6a7d5"
      },
      "execution_count": null,
      "outputs": [
        {
          "output_type": "execute_result",
          "data": {
            "text/plain": [
              "array([[ 0.        ,  0.        ,  1.        , ...,  0.        ,\n",
              "         0.        ,  0.        ],\n",
              "       [13.66666667,  6.        ,  0.        , ...,  0.        ,\n",
              "         6.        ,  1.        ],\n",
              "       [ 0.        ,  0.        ,  0.        , ...,  0.        ,\n",
              "         0.        ,  0.        ],\n",
              "       ...,\n",
              "       [13.5       ,  1.        ,  1.        , ...,  0.        ,\n",
              "         9.        ,  0.        ],\n",
              "       [12.        ,  5.        ,  1.        , ...,  0.        ,\n",
              "         6.        ,  1.        ],\n",
              "       [13.        ,  6.        ,  1.        , ...,  0.        ,\n",
              "         6.        ,  1.        ]])"
            ]
          },
          "metadata": {},
          "execution_count": 36
        }
      ],
      "id": "eG8lH0iyovZB"
    },
    {
      "cell_type": "code",
      "execution_count": null,
      "metadata": {
        "id": "8b2fee08-cf69-435c-b05b-cd83bb766469"
      },
      "outputs": [],
      "source": [
        "# split target variable\n",
        "X = dataset[:, 0:8] # variabel bebas / independen\n",
        "y = dataset[:, 8] # target variable"
      ],
      "id": "8b2fee08-cf69-435c-b05b-cd83bb766469"
    },
    {
      "cell_type": "code",
      "source": [
        "# train test split\n",
        "X_train, X_test, y_train, y_test = train_test_split(X,y, test_size = 0.2, random_state=0) # size test = 20%"
      ],
      "metadata": {
        "id": "VYIRC0zflW7x"
      },
      "execution_count": null,
      "outputs": [],
      "id": "VYIRC0zflW7x"
    },
    {
      "cell_type": "code",
      "source": [
        "model = Sequential([\n",
        "  Dense(10, activation='relu', input_shape=(8,)),\n",
        "  Dense(10, activation='relu'), # relu digunakan agar bilangan tidak negatif, ReLU(x) = max(0, x), jika ada nilai negative, akan dijadikan 0\n",
        "  Dense(1, activation='sigmoid'), # sigmoid dipakai untuk binary classification\n",
        "])\n",
        "\n",
        "# Compile the model\n",
        "model.compile(optimizer='SGD', loss='binary_crossentropy', metrics=['binary_accuracy'])"
      ],
      "metadata": {
        "id": "wSMfhh1gp_pB"
      },
      "execution_count": null,
      "outputs": [],
      "id": "wSMfhh1gp_pB"
    },
    {
      "cell_type": "markdown",
      "source": [
        "Training datanya kemudian masukkan kedalam variabel h"
      ],
      "metadata": {
        "id": "-AZ2E_2jlYVM"
      },
      "id": "-AZ2E_2jlYVM"
    },
    {
      "cell_type": "code",
      "source": [
        "h = model.fit(X_train, y_train, epochs=150)"
      ],
      "metadata": {
        "colab": {
          "base_uri": "https://localhost:8080/"
        },
        "id": "46OOkBs2p-Pw",
        "outputId": "1bc01576-4c71-4c57-d18e-6f3f13ac12b5"
      },
      "execution_count": null,
      "outputs": [
        {
          "output_type": "stream",
          "name": "stdout",
          "text": [
            "Epoch 1/150\n",
            "91/91 [==============================] - 2s 4ms/step - loss: 0.5829 - binary_accuracy: 0.7676\n",
            "Epoch 2/150\n",
            "91/91 [==============================] - 0s 4ms/step - loss: 0.3922 - binary_accuracy: 0.8499\n",
            "Epoch 3/150\n",
            "91/91 [==============================] - 0s 2ms/step - loss: 0.3597 - binary_accuracy: 0.8654\n",
            "Epoch 4/150\n",
            "91/91 [==============================] - 0s 4ms/step - loss: 0.3506 - binary_accuracy: 0.8691\n",
            "Epoch 5/150\n",
            "91/91 [==============================] - 0s 3ms/step - loss: 0.3390 - binary_accuracy: 0.8702\n",
            "Epoch 6/150\n",
            "91/91 [==============================] - 0s 3ms/step - loss: 0.3339 - binary_accuracy: 0.8691\n",
            "Epoch 7/150\n",
            "91/91 [==============================] - 0s 2ms/step - loss: 0.3262 - binary_accuracy: 0.8791\n",
            "Epoch 8/150\n",
            "91/91 [==============================] - 0s 3ms/step - loss: 0.3330 - binary_accuracy: 0.8733\n",
            "Epoch 9/150\n",
            "91/91 [==============================] - 0s 3ms/step - loss: 0.3201 - binary_accuracy: 0.8798\n",
            "Epoch 10/150\n",
            "91/91 [==============================] - 0s 4ms/step - loss: 0.3204 - binary_accuracy: 0.8795\n",
            "Epoch 11/150\n",
            "91/91 [==============================] - 0s 3ms/step - loss: 0.3132 - binary_accuracy: 0.8760\n",
            "Epoch 12/150\n",
            "91/91 [==============================] - 0s 4ms/step - loss: 0.3094 - binary_accuracy: 0.8788\n",
            "Epoch 13/150\n",
            "91/91 [==============================] - 0s 3ms/step - loss: 0.3118 - binary_accuracy: 0.8850\n",
            "Epoch 14/150\n",
            "91/91 [==============================] - 0s 2ms/step - loss: 0.3073 - binary_accuracy: 0.8781\n",
            "Epoch 15/150\n",
            "91/91 [==============================] - 0s 4ms/step - loss: 0.3063 - binary_accuracy: 0.8815\n",
            "Epoch 16/150\n",
            "91/91 [==============================] - 0s 4ms/step - loss: 0.3041 - binary_accuracy: 0.8805\n",
            "Epoch 17/150\n",
            "91/91 [==============================] - 0s 4ms/step - loss: 0.3052 - binary_accuracy: 0.8802\n",
            "Epoch 18/150\n",
            "91/91 [==============================] - 0s 2ms/step - loss: 0.3046 - binary_accuracy: 0.8795\n",
            "Epoch 19/150\n",
            "91/91 [==============================] - 0s 5ms/step - loss: 0.3000 - binary_accuracy: 0.8809\n",
            "Epoch 20/150\n",
            "91/91 [==============================] - 0s 3ms/step - loss: 0.3010 - binary_accuracy: 0.8805\n",
            "Epoch 21/150\n",
            "91/91 [==============================] - 0s 3ms/step - loss: 0.2999 - binary_accuracy: 0.8791\n",
            "Epoch 22/150\n",
            "91/91 [==============================] - 0s 4ms/step - loss: 0.2966 - binary_accuracy: 0.8871\n",
            "Epoch 23/150\n",
            "91/91 [==============================] - 0s 5ms/step - loss: 0.2970 - binary_accuracy: 0.8826\n",
            "Epoch 24/150\n",
            "91/91 [==============================] - 0s 2ms/step - loss: 0.3089 - binary_accuracy: 0.8795\n",
            "Epoch 25/150\n",
            "91/91 [==============================] - 0s 3ms/step - loss: 0.2990 - binary_accuracy: 0.8829\n",
            "Epoch 26/150\n",
            "91/91 [==============================] - 0s 3ms/step - loss: 0.2985 - binary_accuracy: 0.8784\n",
            "Epoch 27/150\n",
            "91/91 [==============================] - 0s 4ms/step - loss: 0.2958 - binary_accuracy: 0.8850\n",
            "Epoch 28/150\n",
            "91/91 [==============================] - 0s 5ms/step - loss: 0.2956 - binary_accuracy: 0.8836\n",
            "Epoch 29/150\n",
            "91/91 [==============================] - 1s 6ms/step - loss: 0.2963 - binary_accuracy: 0.8822\n",
            "Epoch 30/150\n",
            "91/91 [==============================] - 1s 6ms/step - loss: 0.2946 - binary_accuracy: 0.8795\n",
            "Epoch 31/150\n",
            "91/91 [==============================] - 1s 6ms/step - loss: 0.2970 - binary_accuracy: 0.8864\n",
            "Epoch 32/150\n",
            "91/91 [==============================] - 1s 6ms/step - loss: 0.2911 - binary_accuracy: 0.8864\n",
            "Epoch 33/150\n",
            "91/91 [==============================] - 1s 6ms/step - loss: 0.2926 - binary_accuracy: 0.8833\n",
            "Epoch 34/150\n",
            "91/91 [==============================] - 0s 3ms/step - loss: 0.2900 - binary_accuracy: 0.8836\n",
            "Epoch 35/150\n",
            "91/91 [==============================] - 0s 2ms/step - loss: 0.2930 - binary_accuracy: 0.8850\n",
            "Epoch 36/150\n",
            "91/91 [==============================] - 0s 2ms/step - loss: 0.2897 - binary_accuracy: 0.8857\n",
            "Epoch 37/150\n",
            "91/91 [==============================] - 0s 3ms/step - loss: 0.2864 - binary_accuracy: 0.8857\n",
            "Epoch 38/150\n",
            "91/91 [==============================] - 0s 3ms/step - loss: 0.2901 - binary_accuracy: 0.8846\n",
            "Epoch 39/150\n",
            "91/91 [==============================] - 0s 3ms/step - loss: 0.2917 - binary_accuracy: 0.8812\n",
            "Epoch 40/150\n",
            "91/91 [==============================] - 0s 5ms/step - loss: 0.2873 - binary_accuracy: 0.8860\n",
            "Epoch 41/150\n",
            "91/91 [==============================] - 1s 6ms/step - loss: 0.2904 - binary_accuracy: 0.8805\n",
            "Epoch 42/150\n",
            "91/91 [==============================] - 0s 2ms/step - loss: 0.2895 - binary_accuracy: 0.8853\n",
            "Epoch 43/150\n",
            "91/91 [==============================] - 0s 2ms/step - loss: 0.2828 - binary_accuracy: 0.8884\n",
            "Epoch 44/150\n",
            "91/91 [==============================] - 0s 2ms/step - loss: 0.2881 - binary_accuracy: 0.8871\n",
            "Epoch 45/150\n",
            "91/91 [==============================] - 0s 2ms/step - loss: 0.2892 - binary_accuracy: 0.8846\n",
            "Epoch 46/150\n",
            "91/91 [==============================] - 0s 2ms/step - loss: 0.2861 - binary_accuracy: 0.8857\n",
            "Epoch 47/150\n",
            "91/91 [==============================] - 0s 2ms/step - loss: 0.2811 - binary_accuracy: 0.8846\n",
            "Epoch 48/150\n",
            "91/91 [==============================] - 0s 2ms/step - loss: 0.2879 - binary_accuracy: 0.8867\n",
            "Epoch 49/150\n",
            "91/91 [==============================] - 0s 2ms/step - loss: 0.2859 - binary_accuracy: 0.8877\n",
            "Epoch 50/150\n",
            "91/91 [==============================] - 0s 2ms/step - loss: 0.2867 - binary_accuracy: 0.8853\n",
            "Epoch 51/150\n",
            "91/91 [==============================] - 0s 2ms/step - loss: 0.2847 - binary_accuracy: 0.8902\n",
            "Epoch 52/150\n",
            "91/91 [==============================] - 0s 2ms/step - loss: 0.2834 - binary_accuracy: 0.8871\n",
            "Epoch 53/150\n",
            "91/91 [==============================] - 0s 2ms/step - loss: 0.2801 - binary_accuracy: 0.8895\n",
            "Epoch 54/150\n",
            "91/91 [==============================] - 0s 2ms/step - loss: 0.2806 - binary_accuracy: 0.8884\n",
            "Epoch 55/150\n",
            "91/91 [==============================] - 0s 2ms/step - loss: 0.2829 - binary_accuracy: 0.8850\n",
            "Epoch 56/150\n",
            "91/91 [==============================] - 0s 2ms/step - loss: 0.2824 - binary_accuracy: 0.8857\n",
            "Epoch 57/150\n",
            "91/91 [==============================] - 0s 2ms/step - loss: 0.2833 - binary_accuracy: 0.8891\n",
            "Epoch 58/150\n",
            "91/91 [==============================] - 0s 2ms/step - loss: 0.2812 - binary_accuracy: 0.8877\n",
            "Epoch 59/150\n",
            "91/91 [==============================] - 0s 2ms/step - loss: 0.2820 - binary_accuracy: 0.8864\n",
            "Epoch 60/150\n",
            "91/91 [==============================] - 0s 2ms/step - loss: 0.2842 - binary_accuracy: 0.8874\n",
            "Epoch 61/150\n",
            "91/91 [==============================] - 0s 2ms/step - loss: 0.2826 - binary_accuracy: 0.8881\n",
            "Epoch 62/150\n",
            "91/91 [==============================] - 0s 2ms/step - loss: 0.2840 - binary_accuracy: 0.8846\n",
            "Epoch 63/150\n",
            "91/91 [==============================] - 0s 2ms/step - loss: 0.2813 - binary_accuracy: 0.8905\n",
            "Epoch 64/150\n",
            "91/91 [==============================] - 0s 2ms/step - loss: 0.2811 - binary_accuracy: 0.8843\n",
            "Epoch 65/150\n",
            "91/91 [==============================] - 0s 2ms/step - loss: 0.2819 - binary_accuracy: 0.8874\n",
            "Epoch 66/150\n",
            "91/91 [==============================] - 0s 2ms/step - loss: 0.2796 - binary_accuracy: 0.8864\n",
            "Epoch 67/150\n",
            "91/91 [==============================] - 0s 2ms/step - loss: 0.2803 - binary_accuracy: 0.8843\n",
            "Epoch 68/150\n",
            "91/91 [==============================] - 0s 2ms/step - loss: 0.2790 - binary_accuracy: 0.8884\n",
            "Epoch 69/150\n",
            "91/91 [==============================] - 0s 2ms/step - loss: 0.2819 - binary_accuracy: 0.8884\n",
            "Epoch 70/150\n",
            "91/91 [==============================] - 0s 2ms/step - loss: 0.2849 - binary_accuracy: 0.8867\n",
            "Epoch 71/150\n",
            "91/91 [==============================] - 0s 2ms/step - loss: 0.2764 - binary_accuracy: 0.8895\n",
            "Epoch 72/150\n",
            "91/91 [==============================] - 0s 2ms/step - loss: 0.2808 - binary_accuracy: 0.8895\n",
            "Epoch 73/150\n",
            "91/91 [==============================] - 0s 2ms/step - loss: 0.2797 - binary_accuracy: 0.8867\n",
            "Epoch 74/150\n",
            "91/91 [==============================] - 0s 2ms/step - loss: 0.2790 - binary_accuracy: 0.8912\n",
            "Epoch 75/150\n",
            "91/91 [==============================] - 0s 2ms/step - loss: 0.2785 - binary_accuracy: 0.8874\n",
            "Epoch 76/150\n",
            "91/91 [==============================] - 0s 2ms/step - loss: 0.2776 - binary_accuracy: 0.8881\n",
            "Epoch 77/150\n",
            "91/91 [==============================] - 0s 2ms/step - loss: 0.2791 - binary_accuracy: 0.8902\n",
            "Epoch 78/150\n",
            "91/91 [==============================] - 0s 2ms/step - loss: 0.2790 - binary_accuracy: 0.8895\n",
            "Epoch 79/150\n",
            "91/91 [==============================] - 0s 2ms/step - loss: 0.2801 - binary_accuracy: 0.8895\n",
            "Epoch 80/150\n",
            "91/91 [==============================] - 0s 2ms/step - loss: 0.2814 - binary_accuracy: 0.8874\n",
            "Epoch 81/150\n",
            "91/91 [==============================] - 0s 2ms/step - loss: 0.2822 - binary_accuracy: 0.8884\n",
            "Epoch 82/150\n",
            "91/91 [==============================] - 0s 2ms/step - loss: 0.2787 - binary_accuracy: 0.8874\n",
            "Epoch 83/150\n",
            "91/91 [==============================] - 0s 2ms/step - loss: 0.2783 - binary_accuracy: 0.8884\n",
            "Epoch 84/150\n",
            "91/91 [==============================] - 0s 2ms/step - loss: 0.2791 - binary_accuracy: 0.8902\n",
            "Epoch 85/150\n",
            "91/91 [==============================] - 0s 2ms/step - loss: 0.2801 - binary_accuracy: 0.8888\n",
            "Epoch 86/150\n",
            "91/91 [==============================] - 0s 2ms/step - loss: 0.2816 - binary_accuracy: 0.8867\n",
            "Epoch 87/150\n",
            "91/91 [==============================] - 0s 2ms/step - loss: 0.2803 - binary_accuracy: 0.8857\n",
            "Epoch 88/150\n",
            "91/91 [==============================] - 0s 2ms/step - loss: 0.2786 - binary_accuracy: 0.8902\n",
            "Epoch 89/150\n",
            "91/91 [==============================] - 0s 2ms/step - loss: 0.2767 - binary_accuracy: 0.8912\n",
            "Epoch 90/150\n",
            "91/91 [==============================] - 0s 2ms/step - loss: 0.2771 - binary_accuracy: 0.8877\n",
            "Epoch 91/150\n",
            "91/91 [==============================] - 0s 2ms/step - loss: 0.2796 - binary_accuracy: 0.8874\n",
            "Epoch 92/150\n",
            "91/91 [==============================] - 0s 2ms/step - loss: 0.2771 - binary_accuracy: 0.8881\n",
            "Epoch 93/150\n",
            "91/91 [==============================] - 0s 2ms/step - loss: 0.2770 - binary_accuracy: 0.8902\n",
            "Epoch 94/150\n",
            "91/91 [==============================] - 0s 2ms/step - loss: 0.2778 - binary_accuracy: 0.8867\n",
            "Epoch 95/150\n",
            "91/91 [==============================] - 0s 2ms/step - loss: 0.2780 - binary_accuracy: 0.8867\n",
            "Epoch 96/150\n",
            "91/91 [==============================] - 0s 2ms/step - loss: 0.2778 - binary_accuracy: 0.8871\n",
            "Epoch 97/150\n",
            "91/91 [==============================] - 0s 2ms/step - loss: 0.2784 - binary_accuracy: 0.8902\n",
            "Epoch 98/150\n",
            "91/91 [==============================] - 0s 2ms/step - loss: 0.2805 - binary_accuracy: 0.8908\n",
            "Epoch 99/150\n",
            "91/91 [==============================] - 0s 2ms/step - loss: 0.2782 - binary_accuracy: 0.8874\n",
            "Epoch 100/150\n",
            "91/91 [==============================] - 0s 2ms/step - loss: 0.2806 - binary_accuracy: 0.8881\n",
            "Epoch 101/150\n",
            "91/91 [==============================] - 0s 2ms/step - loss: 0.2812 - binary_accuracy: 0.8871\n",
            "Epoch 102/150\n",
            "91/91 [==============================] - 0s 2ms/step - loss: 0.2805 - binary_accuracy: 0.8871\n",
            "Epoch 103/150\n",
            "91/91 [==============================] - 0s 2ms/step - loss: 0.2733 - binary_accuracy: 0.8950\n",
            "Epoch 104/150\n",
            "91/91 [==============================] - 0s 2ms/step - loss: 0.2722 - binary_accuracy: 0.8912\n",
            "Epoch 105/150\n",
            "91/91 [==============================] - 0s 2ms/step - loss: 0.2793 - binary_accuracy: 0.8891\n",
            "Epoch 106/150\n",
            "91/91 [==============================] - 0s 2ms/step - loss: 0.2749 - binary_accuracy: 0.8926\n",
            "Epoch 107/150\n",
            "91/91 [==============================] - 0s 2ms/step - loss: 0.2753 - binary_accuracy: 0.8902\n",
            "Epoch 108/150\n",
            "91/91 [==============================] - 0s 2ms/step - loss: 0.2751 - binary_accuracy: 0.8915\n",
            "Epoch 109/150\n",
            "91/91 [==============================] - 0s 2ms/step - loss: 0.2779 - binary_accuracy: 0.8867\n",
            "Epoch 110/150\n",
            "91/91 [==============================] - 0s 2ms/step - loss: 0.2750 - binary_accuracy: 0.8922\n",
            "Epoch 111/150\n",
            "91/91 [==============================] - 0s 2ms/step - loss: 0.2735 - binary_accuracy: 0.8929\n",
            "Epoch 112/150\n",
            "91/91 [==============================] - 0s 2ms/step - loss: 0.2742 - binary_accuracy: 0.8902\n",
            "Epoch 113/150\n",
            "91/91 [==============================] - 0s 2ms/step - loss: 0.2729 - binary_accuracy: 0.8922\n",
            "Epoch 114/150\n",
            "91/91 [==============================] - 0s 2ms/step - loss: 0.2759 - binary_accuracy: 0.8946\n",
            "Epoch 115/150\n",
            "91/91 [==============================] - 0s 2ms/step - loss: 0.2778 - binary_accuracy: 0.8891\n",
            "Epoch 116/150\n",
            "91/91 [==============================] - 0s 2ms/step - loss: 0.2758 - binary_accuracy: 0.8895\n",
            "Epoch 117/150\n",
            "91/91 [==============================] - 0s 2ms/step - loss: 0.2741 - binary_accuracy: 0.8936\n",
            "Epoch 118/150\n",
            "91/91 [==============================] - 0s 2ms/step - loss: 0.2780 - binary_accuracy: 0.8908\n",
            "Epoch 119/150\n",
            "91/91 [==============================] - 0s 2ms/step - loss: 0.2748 - binary_accuracy: 0.8871\n",
            "Epoch 120/150\n",
            "91/91 [==============================] - 0s 2ms/step - loss: 0.2754 - binary_accuracy: 0.8881\n",
            "Epoch 121/150\n",
            "91/91 [==============================] - 0s 2ms/step - loss: 0.2755 - binary_accuracy: 0.8891\n",
            "Epoch 122/150\n",
            "91/91 [==============================] - 0s 2ms/step - loss: 0.2746 - binary_accuracy: 0.8912\n",
            "Epoch 123/150\n",
            "91/91 [==============================] - 0s 2ms/step - loss: 0.2749 - binary_accuracy: 0.8919\n",
            "Epoch 124/150\n",
            "91/91 [==============================] - 0s 2ms/step - loss: 0.2738 - binary_accuracy: 0.8912\n",
            "Epoch 125/150\n",
            "91/91 [==============================] - 0s 2ms/step - loss: 0.2744 - binary_accuracy: 0.8898\n",
            "Epoch 126/150\n",
            "91/91 [==============================] - 0s 2ms/step - loss: 0.2741 - binary_accuracy: 0.8905\n",
            "Epoch 127/150\n",
            "91/91 [==============================] - 0s 2ms/step - loss: 0.2772 - binary_accuracy: 0.8902\n",
            "Epoch 128/150\n",
            "91/91 [==============================] - 0s 2ms/step - loss: 0.2706 - binary_accuracy: 0.8922\n",
            "Epoch 129/150\n",
            "91/91 [==============================] - 0s 2ms/step - loss: 0.2742 - binary_accuracy: 0.8884\n",
            "Epoch 130/150\n",
            "91/91 [==============================] - 0s 2ms/step - loss: 0.2754 - binary_accuracy: 0.8912\n",
            "Epoch 131/150\n",
            "91/91 [==============================] - 0s 2ms/step - loss: 0.2766 - binary_accuracy: 0.8891\n",
            "Epoch 132/150\n",
            "91/91 [==============================] - 0s 2ms/step - loss: 0.2754 - binary_accuracy: 0.8902\n",
            "Epoch 133/150\n",
            "91/91 [==============================] - 0s 2ms/step - loss: 0.2726 - binary_accuracy: 0.8908\n",
            "Epoch 134/150\n",
            "91/91 [==============================] - 0s 2ms/step - loss: 0.2710 - binary_accuracy: 0.8943\n",
            "Epoch 135/150\n",
            "91/91 [==============================] - 0s 2ms/step - loss: 0.2746 - binary_accuracy: 0.8922\n",
            "Epoch 136/150\n",
            "91/91 [==============================] - 0s 2ms/step - loss: 0.2726 - binary_accuracy: 0.8933\n",
            "Epoch 137/150\n",
            "91/91 [==============================] - 0s 2ms/step - loss: 0.2708 - binary_accuracy: 0.8943\n",
            "Epoch 138/150\n",
            "91/91 [==============================] - 0s 2ms/step - loss: 0.2738 - binary_accuracy: 0.8919\n",
            "Epoch 139/150\n",
            "91/91 [==============================] - 0s 2ms/step - loss: 0.2727 - binary_accuracy: 0.8939\n",
            "Epoch 140/150\n",
            "91/91 [==============================] - 0s 2ms/step - loss: 0.2703 - binary_accuracy: 0.8926\n",
            "Epoch 141/150\n",
            "91/91 [==============================] - 0s 2ms/step - loss: 0.2715 - binary_accuracy: 0.8963\n",
            "Epoch 142/150\n",
            "91/91 [==============================] - 0s 2ms/step - loss: 0.2737 - binary_accuracy: 0.8963\n",
            "Epoch 143/150\n",
            "91/91 [==============================] - 0s 2ms/step - loss: 0.2763 - binary_accuracy: 0.8981\n",
            "Epoch 144/150\n",
            "91/91 [==============================] - 0s 2ms/step - loss: 0.2722 - binary_accuracy: 0.8981\n",
            "Epoch 145/150\n",
            "91/91 [==============================] - 0s 2ms/step - loss: 0.2736 - binary_accuracy: 0.8981\n",
            "Epoch 146/150\n",
            "91/91 [==============================] - 0s 2ms/step - loss: 0.2723 - binary_accuracy: 0.8957\n",
            "Epoch 147/150\n",
            "91/91 [==============================] - 0s 2ms/step - loss: 0.2725 - binary_accuracy: 0.8933\n",
            "Epoch 148/150\n",
            "91/91 [==============================] - 0s 2ms/step - loss: 0.2724 - binary_accuracy: 0.9019\n",
            "Epoch 149/150\n",
            "91/91 [==============================] - 0s 2ms/step - loss: 0.2707 - binary_accuracy: 0.8974\n",
            "Epoch 150/150\n",
            "91/91 [==============================] - 0s 2ms/step - loss: 0.2730 - binary_accuracy: 0.8977\n"
          ]
        }
      ],
      "id": "46OOkBs2p-Pw"
    },
    {
      "cell_type": "code",
      "source": [
        "# buat ypredict\n",
        "y_pred = model.predict(X_test)"
      ],
      "metadata": {
        "colab": {
          "base_uri": "https://localhost:8080/"
        },
        "id": "C371o8QTLemK",
        "outputId": "568d4ace-e7a1-4230-f89b-e6bba0a3600a"
      },
      "execution_count": null,
      "outputs": [
        {
          "output_type": "stream",
          "name": "stdout",
          "text": [
            "23/23 [==============================] - 0s 1ms/step\n"
          ]
        }
      ],
      "id": "C371o8QTLemK"
    },
    {
      "cell_type": "code",
      "source": [
        "# buat df untuk store hasil actual vs pred\n",
        "result = pd.DataFrame()\n",
        "result[\"y_act\"] = y_test\n",
        "result[\"y_pred\"] = y_pred"
      ],
      "metadata": {
        "id": "dCEiaNZGLoEZ"
      },
      "execution_count": null,
      "outputs": [],
      "id": "dCEiaNZGLoEZ"
    },
    {
      "cell_type": "markdown",
      "source": [
        "Tampilkan Hasil"
      ],
      "metadata": {
        "id": "F4FwDG0ZlfKh"
      },
      "id": "F4FwDG0ZlfKh"
    },
    {
      "cell_type": "code",
      "source": [
        "result.head()"
      ],
      "metadata": {
        "colab": {
          "base_uri": "https://localhost:8080/",
          "height": 206
        },
        "id": "K4sS2V8KLqTh",
        "outputId": "9f6be672-a6b4-4b6f-bd2b-a073786dd861"
      },
      "execution_count": null,
      "outputs": [
        {
          "output_type": "execute_result",
          "data": {
            "text/plain": [
              "   y_act    y_pred\n",
              "0    1.0  0.951051\n",
              "1    1.0  0.900118\n",
              "2    0.0  0.062075\n",
              "3    1.0  0.968797\n",
              "4    1.0  0.930614"
            ],
            "text/html": [
              "\n",
              "  <div id=\"df-b471faab-d43a-4614-99d2-54dc93de9021\">\n",
              "    <div class=\"colab-df-container\">\n",
              "      <div>\n",
              "<style scoped>\n",
              "    .dataframe tbody tr th:only-of-type {\n",
              "        vertical-align: middle;\n",
              "    }\n",
              "\n",
              "    .dataframe tbody tr th {\n",
              "        vertical-align: top;\n",
              "    }\n",
              "\n",
              "    .dataframe thead th {\n",
              "        text-align: right;\n",
              "    }\n",
              "</style>\n",
              "<table border=\"1\" class=\"dataframe\">\n",
              "  <thead>\n",
              "    <tr style=\"text-align: right;\">\n",
              "      <th></th>\n",
              "      <th>y_act</th>\n",
              "      <th>y_pred</th>\n",
              "    </tr>\n",
              "  </thead>\n",
              "  <tbody>\n",
              "    <tr>\n",
              "      <th>0</th>\n",
              "      <td>1.0</td>\n",
              "      <td>0.951051</td>\n",
              "    </tr>\n",
              "    <tr>\n",
              "      <th>1</th>\n",
              "      <td>1.0</td>\n",
              "      <td>0.900118</td>\n",
              "    </tr>\n",
              "    <tr>\n",
              "      <th>2</th>\n",
              "      <td>0.0</td>\n",
              "      <td>0.062075</td>\n",
              "    </tr>\n",
              "    <tr>\n",
              "      <th>3</th>\n",
              "      <td>1.0</td>\n",
              "      <td>0.968797</td>\n",
              "    </tr>\n",
              "    <tr>\n",
              "      <th>4</th>\n",
              "      <td>1.0</td>\n",
              "      <td>0.930614</td>\n",
              "    </tr>\n",
              "  </tbody>\n",
              "</table>\n",
              "</div>\n",
              "      <button class=\"colab-df-convert\" onclick=\"convertToInteractive('df-b471faab-d43a-4614-99d2-54dc93de9021')\"\n",
              "              title=\"Convert this dataframe to an interactive table.\"\n",
              "              style=\"display:none;\">\n",
              "        \n",
              "  <svg xmlns=\"http://www.w3.org/2000/svg\" height=\"24px\"viewBox=\"0 0 24 24\"\n",
              "       width=\"24px\">\n",
              "    <path d=\"M0 0h24v24H0V0z\" fill=\"none\"/>\n",
              "    <path d=\"M18.56 5.44l.94 2.06.94-2.06 2.06-.94-2.06-.94-.94-2.06-.94 2.06-2.06.94zm-11 1L8.5 8.5l.94-2.06 2.06-.94-2.06-.94L8.5 2.5l-.94 2.06-2.06.94zm10 10l.94 2.06.94-2.06 2.06-.94-2.06-.94-.94-2.06-.94 2.06-2.06.94z\"/><path d=\"M17.41 7.96l-1.37-1.37c-.4-.4-.92-.59-1.43-.59-.52 0-1.04.2-1.43.59L10.3 9.45l-7.72 7.72c-.78.78-.78 2.05 0 2.83L4 21.41c.39.39.9.59 1.41.59.51 0 1.02-.2 1.41-.59l7.78-7.78 2.81-2.81c.8-.78.8-2.07 0-2.86zM5.41 20L4 18.59l7.72-7.72 1.47 1.35L5.41 20z\"/>\n",
              "  </svg>\n",
              "      </button>\n",
              "      \n",
              "  <style>\n",
              "    .colab-df-container {\n",
              "      display:flex;\n",
              "      flex-wrap:wrap;\n",
              "      gap: 12px;\n",
              "    }\n",
              "\n",
              "    .colab-df-convert {\n",
              "      background-color: #E8F0FE;\n",
              "      border: none;\n",
              "      border-radius: 50%;\n",
              "      cursor: pointer;\n",
              "      display: none;\n",
              "      fill: #1967D2;\n",
              "      height: 32px;\n",
              "      padding: 0 0 0 0;\n",
              "      width: 32px;\n",
              "    }\n",
              "\n",
              "    .colab-df-convert:hover {\n",
              "      background-color: #E2EBFA;\n",
              "      box-shadow: 0px 1px 2px rgba(60, 64, 67, 0.3), 0px 1px 3px 1px rgba(60, 64, 67, 0.15);\n",
              "      fill: #174EA6;\n",
              "    }\n",
              "\n",
              "    [theme=dark] .colab-df-convert {\n",
              "      background-color: #3B4455;\n",
              "      fill: #D2E3FC;\n",
              "    }\n",
              "\n",
              "    [theme=dark] .colab-df-convert:hover {\n",
              "      background-color: #434B5C;\n",
              "      box-shadow: 0px 1px 3px 1px rgba(0, 0, 0, 0.15);\n",
              "      filter: drop-shadow(0px 1px 2px rgba(0, 0, 0, 0.3));\n",
              "      fill: #FFFFFF;\n",
              "    }\n",
              "  </style>\n",
              "\n",
              "      <script>\n",
              "        const buttonEl =\n",
              "          document.querySelector('#df-b471faab-d43a-4614-99d2-54dc93de9021 button.colab-df-convert');\n",
              "        buttonEl.style.display =\n",
              "          google.colab.kernel.accessAllowed ? 'block' : 'none';\n",
              "\n",
              "        async function convertToInteractive(key) {\n",
              "          const element = document.querySelector('#df-b471faab-d43a-4614-99d2-54dc93de9021');\n",
              "          const dataTable =\n",
              "            await google.colab.kernel.invokeFunction('convertToInteractive',\n",
              "                                                     [key], {});\n",
              "          if (!dataTable) return;\n",
              "\n",
              "          const docLinkHtml = 'Like what you see? Visit the ' +\n",
              "            '<a target=\"_blank\" href=https://colab.research.google.com/notebooks/data_table.ipynb>data table notebook</a>'\n",
              "            + ' to learn more about interactive tables.';\n",
              "          element.innerHTML = '';\n",
              "          dataTable['output_type'] = 'display_data';\n",
              "          await google.colab.output.renderOutput(dataTable, element);\n",
              "          const docLink = document.createElement('div');\n",
              "          docLink.innerHTML = docLinkHtml;\n",
              "          element.appendChild(docLink);\n",
              "        }\n",
              "      </script>\n",
              "    </div>\n",
              "  </div>\n",
              "  "
            ]
          },
          "metadata": {},
          "execution_count": 43
        }
      ],
      "id": "K4sS2V8KLqTh"
    },
    {
      "cell_type": "markdown",
      "source": [
        "## Model Evaluation"
      ],
      "metadata": {
        "id": "9enZdTPxRf5a"
      },
      "id": "9enZdTPxRf5a"
    },
    {
      "cell_type": "code",
      "source": [
        "model.evaluate(X_test, y_test)"
      ],
      "metadata": {
        "id": "7t1btWuZxJ-f",
        "colab": {
          "base_uri": "https://localhost:8080/"
        },
        "outputId": "72808d79-c14a-488a-b6d9-e6a166ee604a"
      },
      "execution_count": null,
      "outputs": [
        {
          "output_type": "stream",
          "name": "stdout",
          "text": [
            "23/23 [==============================] - 0s 2ms/step - loss: 0.2907 - binary_accuracy: 0.8926\n"
          ]
        },
        {
          "output_type": "execute_result",
          "data": {
            "text/plain": [
              "[0.2906618118286133, 0.8925619721412659]"
            ]
          },
          "metadata": {},
          "execution_count": 44
        }
      ],
      "id": "7t1btWuZxJ-f"
    },
    {
      "cell_type": "markdown",
      "source": [
        "Pada data diatas, kita bisa melihat nilai Loss dan Accuracy dari Testing Model"
      ],
      "metadata": {
        "id": "Uq5MpzC-lor0"
      },
      "id": "Uq5MpzC-lor0"
    },
    {
      "cell_type": "markdown",
      "source": [
        "Selanjutnya kita plot Accuracy dan Lossnya"
      ],
      "metadata": {
        "id": "Gs4x1SxpmqIg"
      },
      "id": "Gs4x1SxpmqIg"
    },
    {
      "cell_type": "code",
      "source": [
        "plt.plot(h.history['binary_accuracy'])\n",
        "plt.title('Model Accuracy Plot')\n",
        "plt.ylabel('Accuracy')\n",
        "plt.xlabel('Epoch')\n",
        "plt.legend(['Train'], loc='lower right')\n",
        "plt.show()"
      ],
      "metadata": {
        "id": "V_ZVjVbyxYNH",
        "colab": {
          "base_uri": "https://localhost:8080/",
          "height": 472
        },
        "outputId": "5793e378-259a-476c-84d7-a3debfeb179a"
      },
      "execution_count": null,
      "outputs": [
        {
          "output_type": "display_data",
          "data": {
            "text/plain": [
              "<Figure size 640x480 with 1 Axes>"
            ],
            "image/png": "[encoded data removed]"
          },
          "metadata": {}
        }
      ],
      "id": "V_ZVjVbyxYNH"
    },
    {
      "cell_type": "code",
      "source": [
        "plt.plot(h.history['loss'])\n",
        "plt.title('Model Loss Plot')\n",
        "plt.ylabel('Loss')\n",
        "plt.xlabel('Epoch')\n",
        "plt.legend(['Train'], loc='upper right')\n",
        "plt.show()"
      ],
      "metadata": {
        "id": "GkIICDf55xt1",
        "colab": {
          "base_uri": "https://localhost:8080/",
          "height": 472
        },
        "outputId": "53552c5b-69ef-4917-b35f-103749194373"
      },
      "execution_count": null,
      "outputs": [
        {
          "output_type": "display_data",
          "data": {
            "text/plain": [
              "<Figure size 640x480 with 1 Axes>"
            ],
            "image/png": "[encoded data removed]"
          },
          "metadata": {}
        }
      ],
      "id": "GkIICDf55xt1"
    }
  ],
  "metadata": {
    "kernelspec": {
      "display_name": "Python 3 (ipykernel)",
      "language": "python",
      "name": "python3"
    },
    "language_info": {
      "codemirror_mode": {
        "name": "ipython",
        "version": 3
      },
      "file_extension": ".py",
      "mimetype": "text/x-python",
      "name": "python",
      "nbconvert_exporter": "python",
      "pygments_lexer": "ipython3",
      "version": "3.9.12"
    },
    "colab": {
      "provenance": [],
      "toc_visible": true
    }
  },
  "nbformat": 4,
  "nbformat_minor": 5
}